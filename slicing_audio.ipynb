{
 "cells": [
  {
   "cell_type": "code",
   "execution_count": 2,
   "metadata": {
    "colab": {
     "base_uri": "https://localhost:8080/"
    },
    "id": "j_P7u4ja6Qz8",
    "outputId": "ebce13c0-0ad2-4eb1-87ea-881fc7f13684"
   },
   "outputs": [
    {
     "name": "stdout",
     "output_type": "stream",
     "text": [
      "Collecting pydub\n",
      "  Downloading pydub-0.25.1-py2.py3-none-any.whl (32 kB)\n",
      "Installing collected packages: pydub\n",
      "Successfully installed pydub-0.25.1\n"
     ]
    }
   ],
   "source": [
    "!pip install pydub"
   ]
  },
  {
   "cell_type": "markdown",
   "metadata": {},
   "source": [
    "## Audio Slicing\n"
   ]
  },
  {
   "cell_type": "markdown",
   "metadata": {
    "id": "DNj8Cp5w9_0a"
   },
   "source": [
    "- Input_folder : 내가 자를 wav 파일들 있는 폴더 경로\n",
    "- Output_folder : 내가 자른거 저장할 wav 파일들 있는 폴더 경로"
   ]
  },
  {
   "cell_type": "code",
   "execution_count": 102,
   "metadata": {},
   "outputs": [],
   "source": [
    "import os\n",
    "import re\n",
    "from pydub import AudioSegment\n",
    "from tqdm import tqdm\n",
    "\n",
    "def get_file_paths(directory):\n",
    "    file_paths = []\n",
    "\n",
    "    # directory 내의 모든 파일 및 디렉터리 목록을 가져옵니다.\n",
    "    for file_name in os.listdir(directory):\n",
    "        # .DS_Store 파일은 무시\n",
    "        if file_name == '.DS_Store':\n",
    "            continue\n",
    "            \n",
    "        # 파일의 전체 경로를 생성합니다.\n",
    "        full_path = os.path.join(directory, file_name)\n",
    "\n",
    "        # 경로가 파일인지 확인하고 리스트에 추가합니다.\n",
    "        if os.path.isfile(full_path):\n",
    "            file_paths.append(full_path)\n",
    "\n",
    "    return file_paths"
   ]
  },
  {
   "cell_type": "markdown",
   "metadata": {},
   "source": [
    "##### 15초로 자르고, 15초 미만은 그냥 저장하는 함수 선언"
   ]
  },
  {
   "cell_type": "code",
   "execution_count": 103,
   "metadata": {
    "id": "YqpadS2P66Ke"
   },
   "outputs": [],
   "source": [
    "# 파일에서 오디오를 15초씩 자르고 저장하는 함수 정의\n",
    "def split_audio(file_path, output_folder):\n",
    "    audio = AudioSegment.from_wav(file_path)\n",
    "    duration = len(audio) / 1000  # 오디오 길이(초)로 변환\n",
    "    file_name = os.path.splitext(os.path.basename(file_path))[0]\n",
    "\n",
    "    if duration < 15:\n",
    "        # 파일이 15초 미만인 경우 그대로 저장\n",
    "        output_path = os.path.join(output_folder, f\"{file_name}_1.wav\")\n",
    "        audio.export(output_path, format=\"wav\")\n",
    "        print(f\"Saved: {output_path}\")\n",
    "        return\n",
    "\n",
    "    # 15초씩 오디오 파일 자르기\n",
    "    part = 1\n",
    "    for i in range(0, len(audio), 15000):\n",
    "        start = i\n",
    "        end = i + 15000\n",
    "        chunk = audio[start:end]\n",
    "\n",
    "        chunk_filename = os.path.join(output_folder, f\"{file_name}_{part}.wav\")\n",
    "        chunk.export(chunk_filename, format=\"wav\")\n",
    "        print(f\"Saved: {chunk_filename}\")\n",
    "        part += 1"
   ]
  },
  {
   "cell_type": "markdown",
   "metadata": {},
   "source": [
    "##### 15초로 자르고, 10초 미만이면 제거하는 함수 선언"
   ]
  },
  {
   "cell_type": "code",
   "execution_count": 104,
   "metadata": {},
   "outputs": [],
   "source": [
    "import os\n",
    "from pydub import AudioSegment\n",
    "\n",
    "def shorter_than_10s(audio_segment):\n",
    "    duration = len(audio_segment) / 1000  # 오디오 길이(초)로 변환\n",
    "    return duration < 10\n",
    "\n",
    "# 파일에서 오디오를 15초씩 자르고 저장하는 함수 정의\n",
    "def split_audio_15(file_path, output_folder):\n",
    "    try:\n",
    "        audio = AudioSegment.from_wav(file_path)\n",
    "    except Exception as e:\n",
    "        print(f\"Error processing {file_path}: {e}\")\n",
    "        return\n",
    "    \n",
    "    file_name = os.path.splitext(os.path.basename(file_path))[0]\n",
    "\n",
    "    # 15초씩 오디오 파일 자르기\n",
    "    part = 1\n",
    "    for i in range(0, len(audio), 15000):\n",
    "        start = i\n",
    "        end = i + 15000\n",
    "        chunk = audio[start:end]\n",
    "        \n",
    "        # 15초로 슬라이스하고 남은 파일이 3초 이하면 저장하지 않기\n",
    "        if shorter_than_10s(chunk):\n",
    "            continue\n",
    "        \n",
    "        chunk_filename = os.path.join(output_folder, f\"{file_name}_{part}.wav\")\n",
    "        chunk.export(chunk_filename, format=\"wav\")\n",
    "        print(f\"Saved: {chunk_filename}\")\n",
    "        part += 1\n"
   ]
  },
  {
   "cell_type": "markdown",
   "metadata": {},
   "source": [
    "##### audio slicing 적용"
   ]
  },
  {
   "cell_type": "code",
   "execution_count": 105,
   "metadata": {
    "id": "HGU9K61d7RPN"
   },
   "outputs": [],
   "source": [
    "# 입력 및 출력 폴더 경로 설정\n",
    "input_folder = 'STS1/news/wav'\n",
    "output_folder = 'STS1/10s_news/wav'\n",
    "\n",
    "# 출력 폴더가 존재하지 않으면 생성\n",
    "os.makedirs(output_folder, exist_ok=True)"
   ]
  },
  {
   "cell_type": "code",
   "execution_count": 106,
   "metadata": {
    "id": "E49YsJ6c97-C"
   },
   "outputs": [],
   "source": [
    "wav_paths = get_file_paths(input_folder)"
   ]
  },
  {
   "cell_type": "code",
   "execution_count": 107,
   "metadata": {
    "colab": {
     "base_uri": "https://localhost:8080/"
    },
    "id": "R39-izut6V7i",
    "outputId": "2278c2c7-dd3c-49c3-d5a4-40b042e921a6",
    "scrolled": true
   },
   "outputs": [
    {
     "name": "stderr",
     "output_type": "stream",
     "text": [
      "Processing files: 100%|████████████████████████| 76/76 [00:00<00:00, 981.60it/s]"
     ]
    },
    {
     "name": "stdout",
     "output_type": "stream",
     "text": [
      "Saved: STS1/10s_news2/wav/AI_1_택시기사 폭행 한지선 결국 출연 드라마 하차  연합뉴스 (Yonhapnews)_5_1.wav\n",
      "Saved: STS1/10s_news2/wav/AI_1_BBC 아바 노래인 줄…김정은 찬양 북한 뮤비 틱톡 인기 연합뉴스 (Yonhapnews)_11_1.wav\n",
      "Saved: STS1/10s_news2/wav/AI_1_LG V50 씽큐 출시 5G 가입자 쟁탈전…9만원 요금제 쓰면 0원  연합뉴스 (Yonhapnews)_1_1.wav\n",
      "Saved: STS1/10s_news2/wav/AI_1_트럼프 미국 대통령 내달 G20 계기 방한…靑 브리핑  연합뉴스 (Yonhapnews)_3_1.wav\n",
      "Saved: STS1/10s_news2/wav/AI_1_한센병 발언 논란 김현아 의원 하루 만에 사과  연합뉴스 (Yonhapnews)_4_1.wav\n",
      "Saved: STS1/10s_news2/wav/AI_1_트럼프 중국 보복 상대적으로 매우 크진 않아…자신감 피력  연합뉴스 (Yonhapnews)_2_1.wav\n",
      "Saved: STS1/10s_news2/wav/AI_1_트럼프 12만 중동 파병설 부인…보낸다면 더 많이 보낼 것  연합뉴스 (Yonhapnews)_1_1.wav\n",
      "Saved: STS1/10s_news2/wav/AI_1_패션쇼엔 열광 가자전쟁엔 침묵…디지털단두대 오른 미 셀럽 연합뉴스 (Yonhapnews)_3_1.wav\n",
      "Saved: STS1/10s_news2/wav/AI_1_훈련병 열사병으로 근육괴사…얼차려 중대장 가혹행위 수사  연합뉴스 (Yonhapnews)_11_1.wav\n",
      "Saved: STS1/10s_news2/wav/AI_1_황금문 열리자 푸틴이요…취임식 고심 끝 참석한 한국 이유는  연합뉴스 (Yonhapnews)_1_1.wav\n",
      "Saved: STS1/10s_news2/wav/AI_1_하이브 민희진 오늘 고발…뉴진스 데리고 나간다 물증도 확보 연합뉴스 (Yonhapnews)_6_1.wav\n",
      "Saved: STS1/10s_news2/wav/AI_1_[풀영상] 공수처장 청문회…채상병 특검밖에 그러면 공수처 필요 없어  연합뉴스 (Yonhapnews)_104_1.wav\n",
      "Saved: STS1/10s_news2/wav/AI_1_패스트트랙 대치 고소·고발전의원 97명 등 총 164명  연합뉴스 (Yonhapnews)_2_1.wav\n",
      "Saved: STS1/10s_news2/wav/AI_1_효녀가수 현숙 16년째 목욕차량 기증…노래할 때까지 봉사  연합뉴스 (Yonhapnews)_5_1.wav\n",
      "Saved: STS1/10s_news2/wav/AI_1_하태경 나이 들면 정신 퇴락 vs 손학규 지켜야 할 예의 있다  연합뉴스 (Yonhapnews)_7_1.wav\n",
      "Saved: STS1/10s_news2/wav/AI_1_칸도 열광한 마동석 액션영화 악인전 4분간의 기립박수  연합뉴스 (Yonhapnews)_4_1.wav\n",
      "Saved: STS1/10s_news2/wav/AI_1_황금문 열리자 푸틴이요…취임식 고심 끝 참석한 한국 이유는  연합뉴스 (Yonhapnews)_6_1.wav\n",
      "Saved: STS1/10s_news2/wav/AI_1_해군 청해부대 환영행사 중 사고…군인 5명 사상  연합뉴스 (Yonhapnews)_2_1.wav\n",
      "Saved: STS1/10s_news2/wav/AI_1_BTS(방탄소년단) 美 빌보드 200 8위…4주 연속 톱10  연합뉴스 (Yonhapnews)_2_1.wav\n",
      "Saved: STS1/10s_news2/wav/AI_1_한미정상 35분간 통화…트럼프 인도적 대북식량지원 시의적절  연합뉴스 (Yonhapnews)_3_1.wav\n",
      "Saved: STS1/10s_news2/wav/AI_1_180도 변한 민희진…뜻밖 비밀 돌출발언으로 툭툭  연합뉴스 (Yonhapnews)_2_1.wav\n",
      "Saved: STS1/10s_news2/wav/AI_1_1심 무죄 이재명 사법부에 감사…도민 삶 개선하겠다  연합뉴스 (Yonhapnews)_7_1.wav\n",
      "Saved: STS1/10s_news2/wav/AI_1_트럼프 다음달 말 방한…북한 발사체 발사 이후 첫 정상회담   연합뉴스 (Yonhapnews)_1_1.wav\n",
      "Saved: STS1/10s_news2/wav/AI_1_한국당 강효상 엄호…구걸외교 민낯 들키자 공무원에게 책임 씌워  연합뉴스 (Yonhapnews)_2_1.wav\n",
      "Saved: STS1/10s_news2/wav/AI_1_프랑스 도착한 올림픽 성화 대환영…대테러특수부대 훈련 공개 연합뉴스 (Yonhapnews)_8_1.wav\n",
      "Saved: STS1/10s_news2/wav/AI_1_하태경 손학규에 정신퇴락 발언 사과…금도 지키겠다  연합뉴스 (Yonhapnews)_6_1.wav\n",
      "Saved: STS1/10s_news2/wav/AI_1_호텔테러 파키스탄 발루치스탄서 또 폭탄 공격…경찰 4명 사망 연합뉴스 (Yonhapnews)_1_1.wav\n",
      "Saved: STS1/10s_news2/wav/AI_1_황교안 군 국방시스템 무너지지 않도록 유념해야  연합뉴스 (Yonhapnews)_7_1.wav\n",
      "Saved: STS1/10s_news2/wav/AI_1_하이브-민희진 싸움에 난데없이 단월드 왜…BTS와 관련없어  연합뉴스 (Yonhapnews)_3_1.wav\n",
      "Saved: STS1/10s_news2/wav/AI_1_학폭 논란 윤서빈 프듀X 하차…JYP 연습생 계약 해지  연합뉴스 (Yonhapnews)_5_1.wav\n",
      "Saved: STS1/10s_news2/wav/AI_1_홍남기 추경 5월 통과 꼭 필요…실기하면 민생 어려움 가중  연합뉴스 (Yonhapnews)_7_1.wav\n",
      "Saved: STS1/10s_news2/wav/AI_1_홍남기 바이오헬스산업을 제2의 반도체로…R&D지원·규제혁파 연합뉴스 (Yonhapnews)_10_1.wav\n",
      "Saved: STS1/10s_news2/wav/AI_1_현대차 수출 선박 화재로 4명 부상 신차 30여대 불타  연합뉴스 (Yonhapnews)_4_1.wav\n",
      "Saved: STS1/10s_news2/wav/AI_1_피격 슬로바키아 총리 의식 회복…증오 정치 자성 목소리  연합뉴스 (Yonhapnews)_7_1.wav\n",
      "Saved: STS1/10s_news2/wav/AI_1_홍남기 경기 하방리스크 확대…추경 통과돼야 연합뉴스 (Yonhapnews)_9_1.wav\n",
      "Saved: STS1/10s_news2/wav/AI_1_8m 아래 2천명 매몰…최악 산사태 나흘째 시신 6구만 찾았다 연합뉴스 (Yonhapnews)_10_1.wav\n",
      "Saved: STS1/10s_news2/wav/AI_1_해군 청해부대 환영행사 중 사고…군인 사상자 발생  연합뉴스 (Yonhapnews)_1_1.wav\n",
      "Saved: STS1/10s_news2/wav/AI_1_한미 북한 미사일 정국속 워킹그룹 회의…대응방향 주목  연합뉴스 (Yonhapnews)_1_1.wav\n",
      "Saved: STS1/10s_news2/wav/AI_1_클럽 미성년자 출입 무마 뇌물 경찰관 영장심사  연합뉴스 (Yonhapnews)_2_1.wav\n",
      "Saved: STS1/10s_news2/wav/AI_1_태국 저수지 한국인 살해 피의자 1명 정읍서 검거…혐의부인 연합뉴스 (Yonhapnews)_3_1.wav\n",
      "Saved: STS1/10s_news2/wav/AI_1_펑펑펑! 수십초 동안 터졌다…부산 마트서 부탄가스 연쇄폭발 연합뉴스 (Yonhapnews)_4_1.wav\n",
      "Saved: STS1/10s_news2/wav/AI_1_프랑스 도착한 올림픽 성화 대환영…대테러특수부대 훈련 공개 연합뉴스 (Yonhapnews)_15_1.wav\n",
      "Saved: STS1/10s_news2/wav/AI_1_홍남기 미중갈등 심화…우리경제에 심각한 영향 가능성  연합뉴스 (Yonhapnews)_3_1.wav\n",
      "Saved: STS1/10s_news2/wav/AI_1_홍남기 미중갈등 심화…우리경제에 심각한 영향 가능성  연합뉴스 (Yonhapnews)_16_1.wav\n",
      "Saved: STS1/10s_news2/wav/AI_1_하태경 합당불가 선언 당론으로 채택하고 김관영은 사퇴해야  연합뉴스 (Yonhapnews)_15_1.wav\n",
      "Saved: STS1/10s_news2/wav/AI_1_황교안 11 회동 먼저 풀고 5당 회담하는 게 마땅해  연합뉴스 (Yonhapnews)_4_1.wav\n",
      "Saved: STS1/10s_news2/wav/AI_1_홍남기 바이오헬스산업을 제2의 반도체로…R&D지원·규제혁파 연합뉴스 (Yonhapnews)_18_1.wav\n",
      "Saved: STS1/10s_news2/wav/AI_1_[블랙박스] 고속도로서 급차선 변경이 불러온 아찔한 상황  연합뉴스 (Yonhapnews)_4_1.wav\n",
      "Saved: STS1/10s_news2/wav/AI_1_홍남기 바이오헬스산업을 제2의 반도체로…R&D지원·규제혁파 연합뉴스 (Yonhapnews)_25_1.wav\n",
      "Saved: STS1/10s_news2/wav/AI_1_2차선에 차량 세운 이유 모르겠다…남편 진술 의혹 유발  연합뉴스 (Yonhapnews)_4_1.wav\n",
      "Saved: STS1/10s_news2/wav/AI_1_홍남기 경기 하방리스크 확대…추경 통과돼야 연합뉴스 (Yonhapnews)_1_1.wav\n",
      "Saved: STS1/10s_news2/wav/AI_1_홍수 지나가자 토네이도…中 광저우서 5명 사망·33명 부상  연합뉴스 (Yonhapnews)_6_1.wav\n",
      "Saved: STS1/10s_news2/wav/AI_1_홍남기 바이오헬스산업을 제2의 반도체로…R&D지원·규제혁파 연합뉴스 (Yonhapnews)_8_1.wav\n",
      "Saved: STS1/10s_news2/wav/AI_1_홍남기 추경 5월 통과 꼭 필요…실기하면 민생 어려움 가중  연합뉴스 (Yonhapnews)_11_1.wav\n",
      "Saved: STS1/10s_news2/wav/AI_1_하태경 나이 들면 정신 퇴락 vs 손학규 지켜야 할 예의 있다  연합뉴스 (Yonhapnews)_10_1.wav\n",
      "Saved: STS1/10s_news2/wav/AI_1_테슬라 모델3·Y 중국 첫 안전검사 통과…중국 2인자 만난 머스크가 한 말은 연합뉴스 (Yonhapnews)_6_1.wav\n",
      "Saved: STS1/10s_news2/wav/AI_1_하늘도 너무 하네비 오는 어린이날 곳곳에서 행사 차질  연합뉴스 (Yonhapnews)_1_1.wav\n",
      "Saved: STS1/10s_news2/wav/AI_1_황당한 맹견 70마리 탈출 해프닝…3마리 탈출했다 포획  연합뉴스 (Yonhapnews)_9_1.wav\n",
      "Saved: STS1/10s_news2/wav/AI_1_포천 공장지대서 외국인 근로자들 신종마약 성행  연합뉴스 (Yonhapnews)_2_1.wav\n",
      "Saved: STS1/10s_news2/wav/AI_1_[풀영상] 공수처장 청문회…채상병 특검밖에 그러면 공수처 필요 없어  연합뉴스 (Yonhapnews)_119_1.wav\n",
      "Saved: STS1/10s_news2/wav/AI_1_트럼프 새 이민정책 발표…가족이민 줄이고 능력 우선  연합뉴스 (Yonhapnews)_3_1.wav\n",
      "Saved: STS1/10s_news2/wav/AI_1_한선교 당직자에 욕설 논란…부적절한 언행 사과  연합뉴스 (Yonhapnews)_1_1.wav\n",
      "Saved: STS1/10s_news2/wav/AI_1_훈련병 열사병으로 근육괴사…얼차려 중대장 가혹행위 수사  연합뉴스 (Yonhapnews)_9_1.wav\n",
      "Saved: STS1/10s_news2/wav/AI_1_후보자 총격 피살 투표소 방화까지…피로 얼룩진 멕시코 선거  연합뉴스 (Yonhapnews)_4_1.wav\n",
      "Saved: STS1/10s_news2/wav/AI_1_홍콩 항소법원 반정부 시위곡 글로리 투 홍콩 금지  연합뉴스 (Yonhapnews)_1_1.wav\n",
      "Saved: STS1/10s_news2/wav/AI_1_피격 슬로바키아 총리 의식 회복…증오 정치 자성 목소리  연합뉴스 (Yonhapnews)_10_1.wav\n",
      "Saved: STS1/10s_news2/wav/AI_1_하태경 합당불가 선언 당론으로 채택하고 김관영은 사퇴해야  연합뉴스 (Yonhapnews)_6_1.wav\n",
      "Saved: STS1/10s_news2/wav/AI_1_황당한 맹견 70마리 탈출 해프닝…3마리 탈출했다 포획  연합뉴스 (Yonhapnews)_13_1.wav\n",
      "Saved: STS1/10s_news2/wav/AI_1_[풀영상] 공수처장 청문회…채상병 특검밖에 그러면 공수처 필요 없어  연합뉴스 (Yonhapnews)_133_1.wav\n"
     ]
    },
    {
     "name": "stderr",
     "output_type": "stream",
     "text": [
      "\n"
     ]
    }
   ],
   "source": [
    "# wav_paths 목록의 모든 파일 처리\n",
    "for file_path in tqdm(wav_paths, desc='Processing files'):\n",
    "    split_audio_15(file_path, output_folder)"
   ]
  },
  {
   "cell_type": "code",
   "execution_count": 108,
   "metadata": {},
   "outputs": [
    {
     "data": {
      "text/plain": [
       "b'RIFF$S\\x07\\x00WAVEfmt \\x10\\x00\\x00\\x00\\x01\\x00\\x01\\x00\\x80>\\x00\\x00\\x00}'"
      ]
     },
     "execution_count": 108,
     "metadata": {},
     "output_type": "execute_result"
    }
   ],
   "source": [
    "# wav 파일 RIFF header 제대로 있는지 확인\n",
    "wav_path = 'STS1/10s_news2/wav/AI_1_택시기사 폭행 한지선 결국 출연 드라마 하차  연합뉴스 (Yonhapnews)_5_1.wav'\n",
    "\n",
    "with open(wav_path, \"rb\") as f:\n",
    "    data = f.read()\n",
    "data[:30]"
   ]
  },
  {
   "cell_type": "code",
   "execution_count": null,
   "metadata": {},
   "outputs": [],
   "source": []
  }
 ],
 "metadata": {
  "colab": {
   "provenance": []
  },
  "kernelspec": {
   "display_name": "Python 3 (ipykernel)",
   "language": "python",
   "name": "python3"
  },
  "language_info": {
   "codemirror_mode": {
    "name": "ipython",
    "version": 3
   },
   "file_extension": ".py",
   "mimetype": "text/x-python",
   "name": "python",
   "nbconvert_exporter": "python",
   "pygments_lexer": "ipython3",
   "version": "3.10.14"
  }
 },
 "nbformat": 4,
 "nbformat_minor": 4
}
