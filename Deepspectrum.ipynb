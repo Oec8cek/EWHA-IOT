{
 "cells": [
  {
   "cell_type": "markdown",
   "id": "32b6abeb-f82d-4f66-99c4-fb3a5f888fbc",
   "metadata": {
    "jp-MarkdownHeadingCollapsed": true
   },
   "source": [
    "# GPU"
   ]
  },
  {
   "cell_type": "code",
   "execution_count": 1,
   "id": "6ec8e67c-fed5-4f9e-97bf-591e2aa95741",
   "metadata": {},
   "outputs": [
    {
     "name": "stdout",
     "output_type": "stream",
     "text": [
      "이 장치에서 MPS(CPU 가속)를 사용할 수 있습니다.\n"
     ]
    }
   ],
   "source": [
    "import torch\n",
    "\n",
    "def check_mps_availability():\n",
    "    if torch.backends.mps.is_available():\n",
    "        print(\"이 장치에서 MPS(CPU 가속)를 사용할 수 있습니다.\")\n",
    "    else :\n",
    "        print(\"MPS를 사용할 수 없습니다. CPU를 사용합니다.\")\n",
    "\n",
    "check_mps_availability()"
   ]
  },
  {
   "cell_type": "code",
   "execution_count": 2,
   "id": "8d74fea3-a6a6-4648-8c94-2107648d8541",
   "metadata": {},
   "outputs": [
    {
     "name": "stdout",
     "output_type": "stream",
     "text": [
      "PyTorch version:2.3.0\n",
      "MPS 장치를 지원하도록 build 되었는지: True\n",
      "MPS 장치가 사용 가능한지: True\n",
      "macOS-14.3-arm64-arm-64bit\n"
     ]
    }
   ],
   "source": [
    "print (f\"PyTorch version:{torch.__version__}\") # 1.12.1 이상\n",
    "print(f\"MPS 장치를 지원하도록 build 되었는지: {torch.backends.mps.is_built()}\") # True 여야 합니다.\n",
    "print(f\"MPS 장치가 사용 가능한지: {torch.backends.mps.is_available()}\") # True 여야 합니다.\n",
    "!python -c 'import platform;print(platform.platform())'"
   ]
  },
  {
   "cell_type": "code",
   "execution_count": 3,
   "id": "63aa1cdb-0bcc-42e7-a76a-7cd4f6310443",
   "metadata": {},
   "outputs": [
    {
     "data": {
      "text/plain": [
       "device(type='mps', index=0)"
      ]
     },
     "execution_count": 3,
     "metadata": {},
     "output_type": "execute_result"
    }
   ],
   "source": [
    "device = torch.device('mps:0' if torch.backends.mps.is_available() else 'cpu')\n",
    "device"
   ]
  },
  {
   "cell_type": "code",
   "execution_count": 4,
   "id": "37d85b41-72a6-4580-90e6-3308b05854ee",
   "metadata": {},
   "outputs": [
    {
     "name": "stdout",
     "output_type": "stream",
     "text": [
      "Num GPUs Available:  1\n"
     ]
    }
   ],
   "source": [
    "import tensorflow as tf\n",
    "print(\"Num GPUs Available: \", len(tf.config.list_physical_devices('GPU')))"
   ]
  },
  {
   "cell_type": "markdown",
   "id": "c8703f43-0d40-4ccc-ac9f-e8cec6f8e0fa",
   "metadata": {
    "jp-MarkdownHeadingCollapsed": true
   },
   "source": [
    "# SVM Model"
   ]
  },
  {
   "cell_type": "code",
   "execution_count": 8,
   "id": "032ef8c0-c1d8-42d2-8227-b453818af2bc",
   "metadata": {},
   "outputs": [],
   "source": [
    "import numpy as np\n",
    "from sklearn.model_selection import train_test_split\n",
    "from sklearn.preprocessing import LabelEncoder\n",
    "from sklearn.metrics import accuracy_score\n",
    "from sklearn.svm import SVC\n",
    "import os\n",
    "import json\n",
    "import tensorflow as tf\n",
    "from tensorflow.keras import layers, models\n",
    "\n",
    "# 데이터셋 경로\n",
    "JSON_PATH = \"datasets2/datasets2.json\"\n",
    "\n",
    "def load_data(json_path):\n",
    "    with open(json_path, \"r\") as fp:\n",
    "        data = json.load(fp)\n",
    "    \n",
    "    # 리스트 형태의 MFCC와 라벨 가져오기\n",
    "    X = np.array(data[\"mfcc\"])\n",
    "    y = np.array(data[\"labels\"])\n",
    "    \n",
    "    return X, y\n",
    "\n",
    "def prepare_datasets(test_size, validation_size):\n",
    "    # 데이터 로드\n",
    "    X, y = load_data(JSON_PATH)\n",
    "    \n",
    "    # 데이터 분할\n",
    "    X_train, X_test, y_train, y_test = train_test_split(X, y, test_size=test_size)\n",
    "    X_train, X_validation, y_train, y_validation = train_test_split(X_train, y_train, test_size=validation_size)\n",
    "    \n",
    "    return X_train, X_validation, X_test, y_train, y_validation, y_test\n",
    "\n",
    "def build_model(input_shape):\n",
    "    # SVM 분류 모델 생성\n",
    "    model = SVC(kernel='rbf', gamma='auto', C=1)\n",
    "    \n",
    "    return model"
   ]
  },
  {
   "cell_type": "code",
   "execution_count": 9,
   "id": "73b8ee5f-5d34-4388-8dc5-d9d25c087e5f",
   "metadata": {},
   "outputs": [
    {
     "name": "stdout",
     "output_type": "stream",
     "text": [
      "Train accuracy: 100.00%\n",
      "Validation accuracy: 52.37%\n",
      "Test accuracy: 50.46%\n"
     ]
    }
   ],
   "source": [
    "# 데이터 준비\n",
    "X_train, X_validation, X_test, y_train, y_validation, y_test = prepare_datasets(test_size=0.25, validation_size=0.2)\n",
    "\n",
    "# 모델 생성\n",
    "input_shape = (X_train.shape[1], X_train.shape[2]) # MFCC shape\n",
    "model = build_model(input_shape)\n",
    "\n",
    "# 모델 훈련\n",
    "model.fit(X_train.reshape(X_train.shape[0], -1), y_train)\n",
    "\n",
    "# 모델 평가\n",
    "y_pred_train = model.predict(X_train.reshape(X_train.shape[0], -1))\n",
    "train_accuracy = accuracy_score(y_train, y_pred_train)\n",
    "print(\"Train accuracy: {:.2f}%\".format(train_accuracy * 100))\n",
    "\n",
    "y_pred_validation = model.predict(X_validation.reshape(X_validation.shape[0], -1))\n",
    "validation_accuracy = accuracy_score(y_validation, y_pred_validation)\n",
    "print(\"Validation accuracy: {:.2f}%\".format(validation_accuracy * 100))\n",
    "\n",
    "y_pred_test = model.predict(X_test.reshape(X_test.shape[0], -1))\n",
    "test_accuracy = accuracy_score(y_test, y_pred_test)\n",
    "print(\"Test accuracy: {:.2f}%\".format(test_accuracy * 100))"
   ]
  },
  {
   "cell_type": "markdown",
   "id": "e98df8a0-efd8-47c9-b249-f7ebe93eaba1",
   "metadata": {
    "jp-MarkdownHeadingCollapsed": true
   },
   "source": [
    "# Ensemble : CNN + SVM"
   ]
  },
  {
   "cell_type": "code",
   "execution_count": 43,
   "id": "2abeed6c-85f5-4b02-82e5-b5de6aabcc53",
   "metadata": {},
   "outputs": [],
   "source": [
    "import numpy as np\n",
    "import os\n",
    "import json\n",
    "from sklearn.model_selection import train_test_split\n",
    "from sklearn.preprocessing import LabelEncoder\n",
    "import tensorflow as tf\n",
    "from tensorflow.keras import layers, models\n",
    "\n",
    "# 데이터셋 경로\n",
    "JSON_PATH = \"datasets.json\"\n",
    "\n",
    "# 데이터 로드\n",
    "X, y = load_data(JSON_PATH)\n",
    "# 데이터 준비\n",
    "X_train, X_validation, X_test, y_train, y_validation, y_test = prepare_datasets(test_size=0.25, validation_size=0.2)\n",
    "\n",
    "# 데이터 전처리\n",
    "#X_train, X_test, y_train, y_test = train_test_split(X, y, test_size=0.3, random_state=42)\n",
    "\n",
    "# 레이블 인코딩\n",
    "label_encoder = LabelEncoder()\n",
    "y_train_encoded = label_encoder.fit_transform(y_train)\n",
    "y_validation_encoded = label_encoder.transform(y_validation)\n",
    "y_test_encoded = label_encoder.transform(y_test)\n",
    "\n",
    "# 입력 데이터 형태 조정\n",
    "input_shape = (X_train.shape[1], X_train.shape[2], 1)\n",
    "#X_train = X_train[..., np.newaxis]\n",
    "#X_test = X_test[..., np.newaxis]"
   ]
  },
  {
   "cell_type": "code",
   "execution_count": 54,
   "id": "ca846051-d5b1-452a-a946-eefb1ec6ecff",
   "metadata": {
    "scrolled": true
   },
   "outputs": [
    {
     "data": {
      "text/html": [
       "<pre style=\"white-space:pre;overflow-x:auto;line-height:normal;font-family:Menlo,'DejaVu Sans Mono',consolas,'Courier New',monospace\"><span style=\"font-weight: bold\">Model: \"sequential_5\"</span>\n",
       "</pre>\n"
      ],
      "text/plain": [
       "\u001b[1mModel: \"sequential_5\"\u001b[0m\n"
      ]
     },
     "metadata": {},
     "output_type": "display_data"
    },
    {
     "data": {
      "text/html": [
       "<pre style=\"white-space:pre;overflow-x:auto;line-height:normal;font-family:Menlo,'DejaVu Sans Mono',consolas,'Courier New',monospace\">┏━━━━━━━━━━━━━━━━━━━━━━━━━━━━━━━━━┳━━━━━━━━━━━━━━━━━━━━━━━━┳━━━━━━━━━━━━━━━┓\n",
       "┃<span style=\"font-weight: bold\"> Layer (type)                    </span>┃<span style=\"font-weight: bold\"> Output Shape           </span>┃<span style=\"font-weight: bold\">       Param # </span>┃\n",
       "┡━━━━━━━━━━━━━━━━━━━━━━━━━━━━━━━━━╇━━━━━━━━━━━━━━━━━━━━━━━━╇━━━━━━━━━━━━━━━┩\n",
       "│ conv2d_10 (<span style=\"color: #0087ff; text-decoration-color: #0087ff\">Conv2D</span>)              │ (<span style=\"color: #00d7ff; text-decoration-color: #00d7ff\">None</span>, <span style=\"color: #00af00; text-decoration-color: #00af00\">517</span>, <span style=\"color: #00af00; text-decoration-color: #00af00\">20</span>, <span style=\"color: #00af00; text-decoration-color: #00af00\">32</span>)    │           <span style=\"color: #00af00; text-decoration-color: #00af00\">320</span> │\n",
       "├─────────────────────────────────┼────────────────────────┼───────────────┤\n",
       "│ max_pooling2d_10 (<span style=\"color: #0087ff; text-decoration-color: #0087ff\">MaxPooling2D</span>) │ (<span style=\"color: #00d7ff; text-decoration-color: #00d7ff\">None</span>, <span style=\"color: #00af00; text-decoration-color: #00af00\">258</span>, <span style=\"color: #00af00; text-decoration-color: #00af00\">10</span>, <span style=\"color: #00af00; text-decoration-color: #00af00\">32</span>)    │             <span style=\"color: #00af00; text-decoration-color: #00af00\">0</span> │\n",
       "├─────────────────────────────────┼────────────────────────┼───────────────┤\n",
       "│ batch_normalization_15          │ (<span style=\"color: #00d7ff; text-decoration-color: #00d7ff\">None</span>, <span style=\"color: #00af00; text-decoration-color: #00af00\">258</span>, <span style=\"color: #00af00; text-decoration-color: #00af00\">10</span>, <span style=\"color: #00af00; text-decoration-color: #00af00\">32</span>)    │           <span style=\"color: #00af00; text-decoration-color: #00af00\">128</span> │\n",
       "│ (<span style=\"color: #0087ff; text-decoration-color: #0087ff\">BatchNormalization</span>)            │                        │               │\n",
       "├─────────────────────────────────┼────────────────────────┼───────────────┤\n",
       "│ dropout_15 (<span style=\"color: #0087ff; text-decoration-color: #0087ff\">Dropout</span>)            │ (<span style=\"color: #00d7ff; text-decoration-color: #00d7ff\">None</span>, <span style=\"color: #00af00; text-decoration-color: #00af00\">258</span>, <span style=\"color: #00af00; text-decoration-color: #00af00\">10</span>, <span style=\"color: #00af00; text-decoration-color: #00af00\">32</span>)    │             <span style=\"color: #00af00; text-decoration-color: #00af00\">0</span> │\n",
       "├─────────────────────────────────┼────────────────────────┼───────────────┤\n",
       "│ conv2d_11 (<span style=\"color: #0087ff; text-decoration-color: #0087ff\">Conv2D</span>)              │ (<span style=\"color: #00d7ff; text-decoration-color: #00d7ff\">None</span>, <span style=\"color: #00af00; text-decoration-color: #00af00\">258</span>, <span style=\"color: #00af00; text-decoration-color: #00af00\">10</span>, <span style=\"color: #00af00; text-decoration-color: #00af00\">64</span>)    │        <span style=\"color: #00af00; text-decoration-color: #00af00\">18,496</span> │\n",
       "├─────────────────────────────────┼────────────────────────┼───────────────┤\n",
       "│ max_pooling2d_11 (<span style=\"color: #0087ff; text-decoration-color: #0087ff\">MaxPooling2D</span>) │ (<span style=\"color: #00d7ff; text-decoration-color: #00d7ff\">None</span>, <span style=\"color: #00af00; text-decoration-color: #00af00\">129</span>, <span style=\"color: #00af00; text-decoration-color: #00af00\">5</span>, <span style=\"color: #00af00; text-decoration-color: #00af00\">64</span>)     │             <span style=\"color: #00af00; text-decoration-color: #00af00\">0</span> │\n",
       "├─────────────────────────────────┼────────────────────────┼───────────────┤\n",
       "│ batch_normalization_16          │ (<span style=\"color: #00d7ff; text-decoration-color: #00d7ff\">None</span>, <span style=\"color: #00af00; text-decoration-color: #00af00\">129</span>, <span style=\"color: #00af00; text-decoration-color: #00af00\">5</span>, <span style=\"color: #00af00; text-decoration-color: #00af00\">64</span>)     │           <span style=\"color: #00af00; text-decoration-color: #00af00\">256</span> │\n",
       "│ (<span style=\"color: #0087ff; text-decoration-color: #0087ff\">BatchNormalization</span>)            │                        │               │\n",
       "├─────────────────────────────────┼────────────────────────┼───────────────┤\n",
       "│ dropout_16 (<span style=\"color: #0087ff; text-decoration-color: #0087ff\">Dropout</span>)            │ (<span style=\"color: #00d7ff; text-decoration-color: #00d7ff\">None</span>, <span style=\"color: #00af00; text-decoration-color: #00af00\">129</span>, <span style=\"color: #00af00; text-decoration-color: #00af00\">5</span>, <span style=\"color: #00af00; text-decoration-color: #00af00\">64</span>)     │             <span style=\"color: #00af00; text-decoration-color: #00af00\">0</span> │\n",
       "├─────────────────────────────────┼────────────────────────┼───────────────┤\n",
       "│ flatten_5 (<span style=\"color: #0087ff; text-decoration-color: #0087ff\">Flatten</span>)             │ (<span style=\"color: #00d7ff; text-decoration-color: #00d7ff\">None</span>, <span style=\"color: #00af00; text-decoration-color: #00af00\">41280</span>)          │             <span style=\"color: #00af00; text-decoration-color: #00af00\">0</span> │\n",
       "├─────────────────────────────────┼────────────────────────┼───────────────┤\n",
       "│ dense_10 (<span style=\"color: #0087ff; text-decoration-color: #0087ff\">Dense</span>)                │ (<span style=\"color: #00d7ff; text-decoration-color: #00d7ff\">None</span>, <span style=\"color: #00af00; text-decoration-color: #00af00\">64</span>)             │     <span style=\"color: #00af00; text-decoration-color: #00af00\">2,641,984</span> │\n",
       "├─────────────────────────────────┼────────────────────────┼───────────────┤\n",
       "│ batch_normalization_17          │ (<span style=\"color: #00d7ff; text-decoration-color: #00d7ff\">None</span>, <span style=\"color: #00af00; text-decoration-color: #00af00\">64</span>)             │           <span style=\"color: #00af00; text-decoration-color: #00af00\">256</span> │\n",
       "│ (<span style=\"color: #0087ff; text-decoration-color: #0087ff\">BatchNormalization</span>)            │                        │               │\n",
       "├─────────────────────────────────┼────────────────────────┼───────────────┤\n",
       "│ dropout_17 (<span style=\"color: #0087ff; text-decoration-color: #0087ff\">Dropout</span>)            │ (<span style=\"color: #00d7ff; text-decoration-color: #00d7ff\">None</span>, <span style=\"color: #00af00; text-decoration-color: #00af00\">64</span>)             │             <span style=\"color: #00af00; text-decoration-color: #00af00\">0</span> │\n",
       "├─────────────────────────────────┼────────────────────────┼───────────────┤\n",
       "│ dense_11 (<span style=\"color: #0087ff; text-decoration-color: #0087ff\">Dense</span>)                │ (<span style=\"color: #00d7ff; text-decoration-color: #00d7ff\">None</span>, <span style=\"color: #00af00; text-decoration-color: #00af00\">2</span>)              │           <span style=\"color: #00af00; text-decoration-color: #00af00\">130</span> │\n",
       "└─────────────────────────────────┴────────────────────────┴───────────────┘\n",
       "</pre>\n"
      ],
      "text/plain": [
       "┏━━━━━━━━━━━━━━━━━━━━━━━━━━━━━━━━━┳━━━━━━━━━━━━━━━━━━━━━━━━┳━━━━━━━━━━━━━━━┓\n",
       "┃\u001b[1m \u001b[0m\u001b[1mLayer (type)                   \u001b[0m\u001b[1m \u001b[0m┃\u001b[1m \u001b[0m\u001b[1mOutput Shape          \u001b[0m\u001b[1m \u001b[0m┃\u001b[1m \u001b[0m\u001b[1m      Param #\u001b[0m\u001b[1m \u001b[0m┃\n",
       "┡━━━━━━━━━━━━━━━━━━━━━━━━━━━━━━━━━╇━━━━━━━━━━━━━━━━━━━━━━━━╇━━━━━━━━━━━━━━━┩\n",
       "│ conv2d_10 (\u001b[38;5;33mConv2D\u001b[0m)              │ (\u001b[38;5;45mNone\u001b[0m, \u001b[38;5;34m517\u001b[0m, \u001b[38;5;34m20\u001b[0m, \u001b[38;5;34m32\u001b[0m)    │           \u001b[38;5;34m320\u001b[0m │\n",
       "├─────────────────────────────────┼────────────────────────┼───────────────┤\n",
       "│ max_pooling2d_10 (\u001b[38;5;33mMaxPooling2D\u001b[0m) │ (\u001b[38;5;45mNone\u001b[0m, \u001b[38;5;34m258\u001b[0m, \u001b[38;5;34m10\u001b[0m, \u001b[38;5;34m32\u001b[0m)    │             \u001b[38;5;34m0\u001b[0m │\n",
       "├─────────────────────────────────┼────────────────────────┼───────────────┤\n",
       "│ batch_normalization_15          │ (\u001b[38;5;45mNone\u001b[0m, \u001b[38;5;34m258\u001b[0m, \u001b[38;5;34m10\u001b[0m, \u001b[38;5;34m32\u001b[0m)    │           \u001b[38;5;34m128\u001b[0m │\n",
       "│ (\u001b[38;5;33mBatchNormalization\u001b[0m)            │                        │               │\n",
       "├─────────────────────────────────┼────────────────────────┼───────────────┤\n",
       "│ dropout_15 (\u001b[38;5;33mDropout\u001b[0m)            │ (\u001b[38;5;45mNone\u001b[0m, \u001b[38;5;34m258\u001b[0m, \u001b[38;5;34m10\u001b[0m, \u001b[38;5;34m32\u001b[0m)    │             \u001b[38;5;34m0\u001b[0m │\n",
       "├─────────────────────────────────┼────────────────────────┼───────────────┤\n",
       "│ conv2d_11 (\u001b[38;5;33mConv2D\u001b[0m)              │ (\u001b[38;5;45mNone\u001b[0m, \u001b[38;5;34m258\u001b[0m, \u001b[38;5;34m10\u001b[0m, \u001b[38;5;34m64\u001b[0m)    │        \u001b[38;5;34m18,496\u001b[0m │\n",
       "├─────────────────────────────────┼────────────────────────┼───────────────┤\n",
       "│ max_pooling2d_11 (\u001b[38;5;33mMaxPooling2D\u001b[0m) │ (\u001b[38;5;45mNone\u001b[0m, \u001b[38;5;34m129\u001b[0m, \u001b[38;5;34m5\u001b[0m, \u001b[38;5;34m64\u001b[0m)     │             \u001b[38;5;34m0\u001b[0m │\n",
       "├─────────────────────────────────┼────────────────────────┼───────────────┤\n",
       "│ batch_normalization_16          │ (\u001b[38;5;45mNone\u001b[0m, \u001b[38;5;34m129\u001b[0m, \u001b[38;5;34m5\u001b[0m, \u001b[38;5;34m64\u001b[0m)     │           \u001b[38;5;34m256\u001b[0m │\n",
       "│ (\u001b[38;5;33mBatchNormalization\u001b[0m)            │                        │               │\n",
       "├─────────────────────────────────┼────────────────────────┼───────────────┤\n",
       "│ dropout_16 (\u001b[38;5;33mDropout\u001b[0m)            │ (\u001b[38;5;45mNone\u001b[0m, \u001b[38;5;34m129\u001b[0m, \u001b[38;5;34m5\u001b[0m, \u001b[38;5;34m64\u001b[0m)     │             \u001b[38;5;34m0\u001b[0m │\n",
       "├─────────────────────────────────┼────────────────────────┼───────────────┤\n",
       "│ flatten_5 (\u001b[38;5;33mFlatten\u001b[0m)             │ (\u001b[38;5;45mNone\u001b[0m, \u001b[38;5;34m41280\u001b[0m)          │             \u001b[38;5;34m0\u001b[0m │\n",
       "├─────────────────────────────────┼────────────────────────┼───────────────┤\n",
       "│ dense_10 (\u001b[38;5;33mDense\u001b[0m)                │ (\u001b[38;5;45mNone\u001b[0m, \u001b[38;5;34m64\u001b[0m)             │     \u001b[38;5;34m2,641,984\u001b[0m │\n",
       "├─────────────────────────────────┼────────────────────────┼───────────────┤\n",
       "│ batch_normalization_17          │ (\u001b[38;5;45mNone\u001b[0m, \u001b[38;5;34m64\u001b[0m)             │           \u001b[38;5;34m256\u001b[0m │\n",
       "│ (\u001b[38;5;33mBatchNormalization\u001b[0m)            │                        │               │\n",
       "├─────────────────────────────────┼────────────────────────┼───────────────┤\n",
       "│ dropout_17 (\u001b[38;5;33mDropout\u001b[0m)            │ (\u001b[38;5;45mNone\u001b[0m, \u001b[38;5;34m64\u001b[0m)             │             \u001b[38;5;34m0\u001b[0m │\n",
       "├─────────────────────────────────┼────────────────────────┼───────────────┤\n",
       "│ dense_11 (\u001b[38;5;33mDense\u001b[0m)                │ (\u001b[38;5;45mNone\u001b[0m, \u001b[38;5;34m2\u001b[0m)              │           \u001b[38;5;34m130\u001b[0m │\n",
       "└─────────────────────────────────┴────────────────────────┴───────────────┘\n"
      ]
     },
     "metadata": {},
     "output_type": "display_data"
    },
    {
     "data": {
      "text/html": [
       "<pre style=\"white-space:pre;overflow-x:auto;line-height:normal;font-family:Menlo,'DejaVu Sans Mono',consolas,'Courier New',monospace\"><span style=\"font-weight: bold\"> Total params: </span><span style=\"color: #00af00; text-decoration-color: #00af00\">2,661,570</span> (10.15 MB)\n",
       "</pre>\n"
      ],
      "text/plain": [
       "\u001b[1m Total params: \u001b[0m\u001b[38;5;34m2,661,570\u001b[0m (10.15 MB)\n"
      ]
     },
     "metadata": {},
     "output_type": "display_data"
    },
    {
     "data": {
      "text/html": [
       "<pre style=\"white-space:pre;overflow-x:auto;line-height:normal;font-family:Menlo,'DejaVu Sans Mono',consolas,'Courier New',monospace\"><span style=\"font-weight: bold\"> Trainable params: </span><span style=\"color: #00af00; text-decoration-color: #00af00\">2,661,250</span> (10.15 MB)\n",
       "</pre>\n"
      ],
      "text/plain": [
       "\u001b[1m Trainable params: \u001b[0m\u001b[38;5;34m2,661,250\u001b[0m (10.15 MB)\n"
      ]
     },
     "metadata": {},
     "output_type": "display_data"
    },
    {
     "data": {
      "text/html": [
       "<pre style=\"white-space:pre;overflow-x:auto;line-height:normal;font-family:Menlo,'DejaVu Sans Mono',consolas,'Courier New',monospace\"><span style=\"font-weight: bold\"> Non-trainable params: </span><span style=\"color: #00af00; text-decoration-color: #00af00\">320</span> (1.25 KB)\n",
       "</pre>\n"
      ],
      "text/plain": [
       "\u001b[1m Non-trainable params: \u001b[0m\u001b[38;5;34m320\u001b[0m (1.25 KB)\n"
      ]
     },
     "metadata": {},
     "output_type": "display_data"
    }
   ],
   "source": [
    "cnn_model = models.Sequential([\n",
    "    layers.Conv2D(32, kernel_size = (3, 3), activation = 'relu', padding = 'same', input_shape = input_shape),\n",
    "    layers.MaxPooling2D(),\n",
    "    layers.BatchNormalization(),\n",
    "    layers.Dropout(0.2),\n",
    "    \n",
    "    layers.Conv2D(64, kernel_size = (3, 3), padding = 'same', activation = 'relu'),\n",
    "    layers.MaxPooling2D(),\n",
    "    layers.BatchNormalization(),\n",
    "    layers.Dropout(0.2),\n",
    "    \n",
    "    layers.Flatten(),\n",
    "    \n",
    "    layers.Dense(64, activation = 'relu'),\n",
    "    layers.BatchNormalization(),\n",
    "    layers.Dropout(0.2),\n",
    "    \n",
    "    layers.Dense(len(label_encoder.classes_), activation = 'softmax')\n",
    "])\n",
    "\n",
    "cnn_model.compile(optimizer = 'adam', loss = 'sparse_categorical_crossentropy', metrics = ['accuracy'])\n",
    "\n",
    "# Displaying model architecture\n",
    "cnn_model.summary()"
   ]
  },
  {
   "cell_type": "code",
   "execution_count": 55,
   "id": "b565e5cb-44e7-4b14-8436-fc20df6ad454",
   "metadata": {},
   "outputs": [],
   "source": [
    "from keras.callbacks import EarlyStopping\n",
    "earlyStopping = EarlyStopping(\n",
    "    monitor = 'val_accuracy',\n",
    "    patience = 10,\n",
    "    min_delta = 0.001,\n",
    "    restore_best_weights = True\n",
    ")"
   ]
  },
  {
   "cell_type": "code",
   "execution_count": 56,
   "id": "92db42a8-7931-409a-be81-cb640e716a3b",
   "metadata": {
    "scrolled": true
   },
   "outputs": [
    {
     "name": "stdout",
     "output_type": "stream",
     "text": [
      "Epoch 1/50\n",
      "\u001b[1m35/35\u001b[0m \u001b[32m━━━━━━━━━━━━━━━━━━━━\u001b[0m\u001b[37m\u001b[0m \u001b[1m3s\u001b[0m 55ms/step - accuracy: 0.8932 - loss: 0.3298 - val_accuracy: 0.9672 - val_loss: 0.1120\n",
      "Epoch 2/50\n",
      "\u001b[1m35/35\u001b[0m \u001b[32m━━━━━━━━━━━━━━━━━━━━\u001b[0m\u001b[37m\u001b[0m \u001b[1m1s\u001b[0m 32ms/step - accuracy: 0.9998 - loss: 0.0222 - val_accuracy: 0.9927 - val_loss: 0.0458\n",
      "Epoch 3/50\n",
      "\u001b[1m35/35\u001b[0m \u001b[32m━━━━━━━━━━━━━━━━━━━━\u001b[0m\u001b[37m\u001b[0m \u001b[1m1s\u001b[0m 30ms/step - accuracy: 0.9953 - loss: 0.0295 - val_accuracy: 0.9599 - val_loss: 0.1187\n",
      "Epoch 4/50\n",
      "\u001b[1m35/35\u001b[0m \u001b[32m━━━━━━━━━━━━━━━━━━━━\u001b[0m\u001b[37m\u001b[0m \u001b[1m1s\u001b[0m 30ms/step - accuracy: 0.9998 - loss: 0.0064 - val_accuracy: 0.9599 - val_loss: 0.1184\n",
      "Epoch 5/50\n",
      "\u001b[1m35/35\u001b[0m \u001b[32m━━━━━━━━━━━━━━━━━━━━\u001b[0m\u001b[37m\u001b[0m \u001b[1m1s\u001b[0m 30ms/step - accuracy: 1.0000 - loss: 0.0036 - val_accuracy: 0.9891 - val_loss: 0.0173\n",
      "Epoch 6/50\n",
      "\u001b[1m35/35\u001b[0m \u001b[32m━━━━━━━━━━━━━━━━━━━━\u001b[0m\u001b[37m\u001b[0m \u001b[1m1s\u001b[0m 30ms/step - accuracy: 1.0000 - loss: 0.0040 - val_accuracy: 0.9708 - val_loss: 0.1035\n",
      "Epoch 7/50\n",
      "\u001b[1m35/35\u001b[0m \u001b[32m━━━━━━━━━━━━━━━━━━━━\u001b[0m\u001b[37m\u001b[0m \u001b[1m1s\u001b[0m 29ms/step - accuracy: 1.0000 - loss: 0.0019 - val_accuracy: 0.9964 - val_loss: 0.0078\n",
      "Epoch 8/50\n",
      "\u001b[1m35/35\u001b[0m \u001b[32m━━━━━━━━━━━━━━━━━━━━\u001b[0m\u001b[37m\u001b[0m \u001b[1m1s\u001b[0m 30ms/step - accuracy: 1.0000 - loss: 0.0031 - val_accuracy: 0.9964 - val_loss: 0.0101\n",
      "Epoch 9/50\n",
      "\u001b[1m35/35\u001b[0m \u001b[32m━━━━━━━━━━━━━━━━━━━━\u001b[0m\u001b[37m\u001b[0m \u001b[1m1s\u001b[0m 29ms/step - accuracy: 1.0000 - loss: 0.0045 - val_accuracy: 0.9964 - val_loss: 0.0147\n",
      "Epoch 10/50\n",
      "\u001b[1m35/35\u001b[0m \u001b[32m━━━━━━━━━━━━━━━━━━━━\u001b[0m\u001b[37m\u001b[0m \u001b[1m1s\u001b[0m 29ms/step - accuracy: 1.0000 - loss: 0.0023 - val_accuracy: 1.0000 - val_loss: 0.0063\n",
      "Epoch 11/50\n",
      "\u001b[1m35/35\u001b[0m \u001b[32m━━━━━━━━━━━━━━━━━━━━\u001b[0m\u001b[37m\u001b[0m \u001b[1m1s\u001b[0m 30ms/step - accuracy: 0.9998 - loss: 0.0061 - val_accuracy: 1.0000 - val_loss: 0.0061\n",
      "Epoch 12/50\n",
      "\u001b[1m35/35\u001b[0m \u001b[32m━━━━━━━━━━━━━━━━━━━━\u001b[0m\u001b[37m\u001b[0m \u001b[1m1s\u001b[0m 30ms/step - accuracy: 0.9847 - loss: 0.0443 - val_accuracy: 0.3832 - val_loss: 2.4870\n",
      "Epoch 13/50\n",
      "\u001b[1m35/35\u001b[0m \u001b[32m━━━━━━━━━━━━━━━━━━━━\u001b[0m\u001b[37m\u001b[0m \u001b[1m1s\u001b[0m 30ms/step - accuracy: 0.9917 - loss: 0.0204 - val_accuracy: 0.4124 - val_loss: 2.2708\n",
      "Epoch 14/50\n",
      "\u001b[1m35/35\u001b[0m \u001b[32m━━━━━━━━━━━━━━━━━━━━\u001b[0m\u001b[37m\u001b[0m \u001b[1m1s\u001b[0m 29ms/step - accuracy: 1.0000 - loss: 0.0059 - val_accuracy: 0.9854 - val_loss: 0.0595\n",
      "Epoch 15/50\n",
      "\u001b[1m35/35\u001b[0m \u001b[32m━━━━━━━━━━━━━━━━━━━━\u001b[0m\u001b[37m\u001b[0m \u001b[1m1s\u001b[0m 30ms/step - accuracy: 0.9991 - loss: 0.0045 - val_accuracy: 0.9927 - val_loss: 0.0275\n",
      "Epoch 16/50\n",
      "\u001b[1m35/35\u001b[0m \u001b[32m━━━━━━━━━━━━━━━━━━━━\u001b[0m\u001b[37m\u001b[0m \u001b[1m1s\u001b[0m 30ms/step - accuracy: 1.0000 - loss: 0.0019 - val_accuracy: 1.0000 - val_loss: 0.0078\n",
      "Epoch 17/50\n",
      "\u001b[1m35/35\u001b[0m \u001b[32m━━━━━━━━━━━━━━━━━━━━\u001b[0m\u001b[37m\u001b[0m \u001b[1m1s\u001b[0m 30ms/step - accuracy: 1.0000 - loss: 0.0026 - val_accuracy: 1.0000 - val_loss: 0.0043\n",
      "Epoch 18/50\n",
      "\u001b[1m35/35\u001b[0m \u001b[32m━━━━━━━━━━━━━━━━━━━━\u001b[0m\u001b[37m\u001b[0m \u001b[1m1s\u001b[0m 30ms/step - accuracy: 1.0000 - loss: 0.0018 - val_accuracy: 1.0000 - val_loss: 0.0058\n",
      "Epoch 19/50\n",
      "\u001b[1m35/35\u001b[0m \u001b[32m━━━━━━━━━━━━━━━━━━━━\u001b[0m\u001b[37m\u001b[0m \u001b[1m1s\u001b[0m 29ms/step - accuracy: 0.9939 - loss: 0.0231 - val_accuracy: 0.9416 - val_loss: 0.1390\n",
      "Epoch 20/50\n",
      "\u001b[1m35/35\u001b[0m \u001b[32m━━━━━━━━━━━━━━━━━━━━\u001b[0m\u001b[37m\u001b[0m \u001b[1m1s\u001b[0m 30ms/step - accuracy: 0.9912 - loss: 0.0386 - val_accuracy: 0.9891 - val_loss: 0.0310\n"
     ]
    }
   ],
   "source": [
    "history = cnn_model.fit(\n",
    "    X_train, y_train_encoded,\n",
    "    validation_data = (X_validation, y_validation_encoded),\n",
    "    epochs = 50,\n",
    "    callbacks = [earlyStopping]\n",
    ")"
   ]
  },
  {
   "cell_type": "code",
   "execution_count": 57,
   "id": "4d98fe13-84ef-46ac-b5ac-b9b5a03e1615",
   "metadata": {},
   "outputs": [],
   "source": [
    "import pandas as pd\n",
    "historyDf = pd.DataFrame(history.history)"
   ]
  },
  {
   "cell_type": "code",
   "execution_count": 58,
   "id": "77e6910a-0793-44d7-97dd-a40a8bee0be1",
   "metadata": {
    "scrolled": true
   },
   "outputs": [
    {
     "data": {
      "text/plain": [
       "<Axes: >"
      ]
     },
     "execution_count": 58,
     "metadata": {},
     "output_type": "execute_result"
    },
    {
     "data": {
      "image/png": "[encoded data removed]",
      "text/plain": [
       "<Figure size 640x480 with 1 Axes>"
      ]
     },
     "metadata": {},
     "output_type": "display_data"
    }
   ],
   "source": [
    "# Plotting training and validation loss\n",
    "historyDf.loc[:, ['loss', 'val_loss']].plot()"
   ]
  },
  {
   "cell_type": "code",
   "execution_count": 59,
   "id": "0de6bb9a-dbd0-421e-a0db-a8ad3773c29f",
   "metadata": {
    "scrolled": true
   },
   "outputs": [
    {
     "data": {
      "text/plain": [
       "<Axes: >"
      ]
     },
     "execution_count": 59,
     "metadata": {},
     "output_type": "execute_result"
    },
    {
     "data": {
      "image/png": "[encoded data removed]",
      "text/plain": [
       "<Figure size 640x480 with 1 Axes>"
      ]
     },
     "metadata": {},
     "output_type": "display_data"
    }
   ],
   "source": [
    "# Plotting training and validation accuracy\n",
    "historyDf.loc[:, ['accuracy', 'val_accuracy']].plot()"
   ]
  },
  {
   "cell_type": "code",
   "execution_count": 60,
   "id": "5f4d1f76-d268-4afb-87db-79d1989ff896",
   "metadata": {},
   "outputs": [
    {
     "name": "stdout",
     "output_type": "stream",
     "text": [
      "\u001b[1m15/15\u001b[0m \u001b[32m━━━━━━━━━━━━━━━━━━━━\u001b[0m\u001b[37m\u001b[0m \u001b[1m0s\u001b[0m 11ms/step - accuracy: 0.9925 - loss: 0.0125\n",
      "Validation accuracy of model : 99.56%\n"
     ]
    }
   ],
   "source": [
    "# Evaluating model\n",
    "score = cnn_model.evaluate(X_test, y_test_encoded)[1] * 100\n",
    "print(f'Validation accuracy of model : {score:.2f}%')"
   ]
  },
  {
   "cell_type": "code",
   "execution_count": 61,
   "id": "d5e7b084-3cab-44f7-ad62-481aa66abd19",
   "metadata": {},
   "outputs": [],
   "source": [
    "# 두 번째 모델: SVM\n",
    "svm_model = SVC(kernel='rbf', gamma='auto', C=1)"
   ]
  },
  {
   "cell_type": "code",
   "execution_count": 66,
   "id": "ea87427b-f63c-4cd5-8a8e-7e13e4d58db7",
   "metadata": {
    "scrolled": true
   },
   "outputs": [
    {
     "name": "stdout",
     "output_type": "stream",
     "text": [
      "Epoch 1/10\n",
      "\u001b[1m35/35\u001b[0m \u001b[32m━━━━━━━━━━━━━━━━━━━━\u001b[0m\u001b[37m\u001b[0m \u001b[1m1s\u001b[0m 32ms/step - accuracy: 0.9934 - loss: 0.0203 - val_accuracy: 0.7956 - val_loss: 0.4416\n",
      "Epoch 2/10\n",
      "\u001b[1m35/35\u001b[0m \u001b[32m━━━━━━━━━━━━━━━━━━━━\u001b[0m\u001b[37m\u001b[0m \u001b[1m1s\u001b[0m 29ms/step - accuracy: 0.9959 - loss: 0.0115 - val_accuracy: 0.9781 - val_loss: 0.0566\n",
      "Epoch 3/10\n",
      "\u001b[1m35/35\u001b[0m \u001b[32m━━━━━━━━━━━━━━━━━━━━\u001b[0m\u001b[37m\u001b[0m \u001b[1m1s\u001b[0m 29ms/step - accuracy: 0.9975 - loss: 0.0062 - val_accuracy: 0.9343 - val_loss: 0.1732\n",
      "Epoch 4/10\n",
      "\u001b[1m35/35\u001b[0m \u001b[32m━━━━━━━━━━━━━━━━━━━━\u001b[0m\u001b[37m\u001b[0m \u001b[1m1s\u001b[0m 30ms/step - accuracy: 0.9916 - loss: 0.0299 - val_accuracy: 0.6971 - val_loss: 0.9387\n",
      "Epoch 5/10\n",
      "\u001b[1m35/35\u001b[0m \u001b[32m━━━━━━━━━━━━━━━━━━━━\u001b[0m\u001b[37m\u001b[0m \u001b[1m1s\u001b[0m 29ms/step - accuracy: 0.9960 - loss: 0.0140 - val_accuracy: 0.9270 - val_loss: 0.1781\n",
      "Epoch 6/10\n",
      "\u001b[1m35/35\u001b[0m \u001b[32m━━━━━━━━━━━━━━━━━━━━\u001b[0m\u001b[37m\u001b[0m \u001b[1m1s\u001b[0m 29ms/step - accuracy: 0.9998 - loss: 0.0019 - val_accuracy: 0.9927 - val_loss: 0.0209\n",
      "Epoch 7/10\n",
      "\u001b[1m35/35\u001b[0m \u001b[32m━━━━━━━━━━━━━━━━━━━━\u001b[0m\u001b[37m\u001b[0m \u001b[1m1s\u001b[0m 30ms/step - accuracy: 0.9995 - loss: 0.0029 - val_accuracy: 0.9964 - val_loss: 0.0192\n",
      "Epoch 8/10\n",
      "\u001b[1m35/35\u001b[0m \u001b[32m━━━━━━━━━━━━━━━━━━━━\u001b[0m\u001b[37m\u001b[0m \u001b[1m1s\u001b[0m 29ms/step - accuracy: 0.9997 - loss: 0.0056 - val_accuracy: 1.0000 - val_loss: 0.0109\n",
      "Epoch 9/10\n",
      "\u001b[1m35/35\u001b[0m \u001b[32m━━━━━━━━━━━━━━━━━━━━\u001b[0m\u001b[37m\u001b[0m \u001b[1m1s\u001b[0m 29ms/step - accuracy: 0.9971 - loss: 0.0122 - val_accuracy: 1.0000 - val_loss: 0.0122\n",
      "Epoch 10/10\n",
      "\u001b[1m35/35\u001b[0m \u001b[32m━━━━━━━━━━━━━━━━━━━━\u001b[0m\u001b[37m\u001b[0m \u001b[1m1s\u001b[0m 30ms/step - accuracy: 0.9930 - loss: 0.0289 - val_accuracy: 0.9270 - val_loss: 0.2176\n",
      "\u001b[1m15/15\u001b[0m \u001b[32m━━━━━━━━━━━━━━━━━━━━\u001b[0m\u001b[37m\u001b[0m \u001b[1m0s\u001b[0m 3ms/step\n",
      "Ensemble accuracy: 92.12%\n"
     ]
    }
   ],
   "source": [
    "from sklearn.metrics import accuracy_score\n",
    "from scipy.stats import mode\n",
    "# 모델 학습\n",
    "cnn_model.fit(X_train, y_train_encoded, epochs=10, batch_size=32, validation_data=(X_validation, y_validation_encoded))\n",
    "\n",
    "svm_model.fit(X_train.reshape(X_train.shape[0], -1), y_train_encoded)\n",
    "\n",
    "# 각 모델의 예측 결과 가져오기\n",
    "cnn_predictions = cnn_model.predict(X_test)\n",
    "svm_predictions = svm_model.predict(X_test.reshape(X_test.shape[0], -1))\n",
    "\n",
    "# CNN 모델의 예측 결과를 클래스 레이블로 변환\n",
    "cnn_pred_labels = np.argmax(cnn_predictions, axis=1)\n",
    "\n",
    "# 두 모델의 예측 결과를 최빈값을 사용하여 앙상블 수행\n",
    "ensemble_predictions = []\n",
    "for cnn_pred, svm_pred in zip(cnn_pred_labels, svm_predictions):\n",
    "    combined_pred = np.bincount([cnn_pred, svm_pred]).argmax()\n",
    "    ensemble_predictions.append(combined_pred)\n",
    "\n",
    "# 최종 예측 결과 평가\n",
    "ensemble_accuracy = accuracy_score(y_test_encoded, ensemble_predictions)\n",
    "print(\"Ensemble accuracy: {:.2f}%\".format(ensemble_accuracy * 100))"
   ]
  },
  {
   "cell_type": "code",
   "execution_count": null,
   "id": "af0e7ebb-8979-4b22-ae7a-1f7f44730d63",
   "metadata": {},
   "outputs": [],
   "source": []
  },
  {
   "cell_type": "markdown",
   "id": "0ce2b8c7-4e7d-40c4-ab9d-a26446c6ca4a",
   "metadata": {},
   "source": [
    "# DeepSpectrum(여기 밑에부터만 돌리면 돼요!)"
   ]
  },
  {
   "cell_type": "markdown",
   "id": "e2ed4e44-a2e2-4916-9ee3-a074e935354c",
   "metadata": {
    "jp-MarkdownHeadingCollapsed": true
   },
   "source": [
    "#### WAV to Mel Spectogram 만들기 & 이미지로 저장하기"
   ]
  },
  {
   "cell_type": "code",
   "execution_count": 5,
   "id": "c639b154-1c3d-4d6a-b654-7f5222c8b28a",
   "metadata": {},
   "outputs": [],
   "source": [
    "import librosa\n",
    "import librosa.display\n",
    "import matplotlib.pyplot as plt\n",
    "import numpy as np\n",
    "\n",
    "def audio_to_spectrogram(file_path):\n",
    "    y, sr = librosa.load(file_path)\n",
    "    spectrogram = librosa.feature.melspectrogram(y=y, sr=sr)\n",
    "    log_spectrogram = librosa.power_to_db(spectrogram, ref=np.max)\n",
    "    return log_spectrogram, sr  # 샘플링 레이트를 반환하여 나중에 사용\n",
    "\n",
    "def audio_to_spectrogram2(file_path):\n",
    "    y, sr = librosa.load(file_path)\n",
    "    spectrogram = librosa.feature.melspectrogram(y=y, sr=sr)\n",
    "    log_spectrogram = librosa.power_to_db(spectrogram, ref=np.max)\n",
    "    return log_spectrogram \n",
    "    \n",
    "def save_spectrogram_image(spectrogram, sr, save_path):\n",
    "    plt.figure(figsize=(10, 4))\n",
    "    librosa.display.specshow(spectrogram, sr=sr, x_axis='time', y_axis='mel')\n",
    "    plt.colorbar(format='%+2.0f dB')\n",
    "    plt.title('Mel-frequency spectrogram')\n",
    "    plt.tight_layout()\n",
    "    plt.savefig(save_path)\n",
    "    plt.close()"
   ]
  },
  {
   "cell_type": "code",
   "execution_count": 6,
   "id": "93f0f3f3-95ce-408d-b77c-08dccf5c0f34",
   "metadata": {
    "scrolled": true
   },
   "outputs": [
    {
     "ename": "FileNotFoundError",
     "evalue": "[Errno 2] No such file or directory: 'datasets2/AI'",
     "output_type": "error",
     "traceback": [
      "\u001b[0;31m---------------------------------------------------------------------------\u001b[0m",
      "\u001b[0;31mFileNotFoundError\u001b[0m                         Traceback (most recent call last)",
      "Cell \u001b[0;32mIn[6], line 12\u001b[0m\n\u001b[1;32m      9\u001b[0m os\u001b[38;5;241m.\u001b[39mmakedirs(output_folder, exist_ok\u001b[38;5;241m=\u001b[39m\u001b[38;5;28;01mTrue\u001b[39;00m)\n\u001b[1;32m     11\u001b[0m \u001b[38;5;66;03m# 입력 폴더의 모든 파일을 순회\u001b[39;00m\n\u001b[0;32m---> 12\u001b[0m \u001b[38;5;28;01mfor\u001b[39;00m filename \u001b[38;5;129;01min\u001b[39;00m \u001b[43mos\u001b[49m\u001b[38;5;241;43m.\u001b[39;49m\u001b[43mlistdir\u001b[49m\u001b[43m(\u001b[49m\u001b[43minput_folder\u001b[49m\u001b[43m)\u001b[49m:\n\u001b[1;32m     13\u001b[0m     \u001b[38;5;28;01mif\u001b[39;00m filename\u001b[38;5;241m.\u001b[39mendswith(\u001b[38;5;124m'\u001b[39m\u001b[38;5;124m.wav\u001b[39m\u001b[38;5;124m'\u001b[39m):\n\u001b[1;32m     14\u001b[0m         \u001b[38;5;28;01mif\u001b[39;00m filename \u001b[38;5;241m==\u001b[39m \u001b[38;5;124m'\u001b[39m\u001b[38;5;124m.DS_Store\u001b[39m\u001b[38;5;124m'\u001b[39m:\n",
      "\u001b[0;31mFileNotFoundError\u001b[0m: [Errno 2] No such file or directory: 'datasets2/AI'"
     ]
    }
   ],
   "source": [
    "#AI WAV 파일을 Spectogram 이미지로 변환\n",
    "import os\n",
    "\n",
    "# 원본 WAV 파일이 있는 폴더와 변환된 Spec 파일을 저장할 폴더 경로 설정\n",
    "input_folder = 'datasets/AI'  # WAV 파일이 있는 폴더\n",
    "output_folder = 'datasets2/AI_spec'  # Spec 파일을 저장할 폴더\n",
    "\n",
    "# 출력 폴더가 없으면 생성\n",
    "os.makedirs(output_folder, exist_ok=True)\n",
    "\n",
    "# 입력 폴더의 모든 파일을 순회\n",
    "for filename in os.listdir(input_folder):\n",
    "    if filename.endswith('.wav'):\n",
    "        if filename == '.DS_Store':\n",
    "            continue\n",
    "        file_path = os.path.join(input_folder, filename)\n",
    "        spec_filename = os.path.splitext(filename)[0] + '.png'\n",
    "        spec_path = os.path.join(output_folder, spec_filename)\n",
    "        \n",
    "        spectrogram, sr = audio_to_spectrogram(file_path)\n",
    "        \n",
    "        save_spectrogram_image(spectrogram, sr, spec_path)\n",
    "        \n",
    "        print(f\"{file_path}를 {spec_path}로 변환했습니다.\")\n",
    "\n",
    "print(\"모든 WAV 파일을 Spectrogram 파일로 변환했습니다.\")\n"
   ]
  },
  {
   "cell_type": "code",
   "execution_count": 14,
   "id": "46749e95-2400-4c97-80dc-118097241114",
   "metadata": {
    "scrolled": true
   },
   "outputs": [
    {
     "name": "stdout",
     "output_type": "stream",
     "text": [
      "datasets2/Human/[수정]20210129 163218.wav를 datasets3/Human_spec/[수정]20210129 163218.png로 변환했습니다.\n",
      "datasets2/Human/[수정]20210126 223356.wav를 datasets3/Human_spec/[수정]20210126 223356.png로 변환했습니다.\n",
      "datasets2/Human/[수정]20210128 212555.wav를 datasets3/Human_spec/[수정]20210128 212555.png로 변환했습니다.\n",
      "datasets2/Human/[수정]20210128 152056.wav를 datasets3/Human_spec/[수정]20210128 152056.png로 변환했습니다.\n",
      "datasets2/Human/[수정]20210126 230909.wav를 datasets3/Human_spec/[수정]20210126 230909.png로 변환했습니다.\n",
      "datasets2/Human/[수정]20210128 202424.wav를 datasets3/Human_spec/[수정]20210128 202424.png로 변환했습니다.\n",
      "datasets2/Human/[수정]20210129 130709.wav를 datasets3/Human_spec/[수정]20210129 130709.png로 변환했습니다.\n",
      "datasets2/Human/[수정]20210128 203934.wav를 datasets3/Human_spec/[수정]20210128 203934.png로 변환했습니다.\n",
      "datasets2/Human/[수정]20210128 205835.wav를 datasets3/Human_spec/[수정]20210128 205835.png로 변환했습니다.\n",
      "datasets2/Human/[수정]20210129 193539.wav를 datasets3/Human_spec/[수정]20210129 193539.png로 변환했습니다.\n",
      "datasets2/Human/[수정]20210129 125700.wav를 datasets3/Human_spec/[수정]20210129 125700.png로 변환했습니다.\n",
      "datasets2/Human/[수정]20210128 145852.wav를 datasets3/Human_spec/[수정]20210128 145852.png로 변환했습니다.\n",
      "datasets2/Human/[수정]20210128 201931.wav를 datasets3/Human_spec/[수정]20210128 201931.png로 변환했습니다.\n",
      "datasets2/Human/[수정]20210129 162850.wav를 datasets3/Human_spec/[수정]20210129 162850.png로 변환했습니다.\n",
      "datasets2/Human/[수정]20210129 194122.wav를 datasets3/Human_spec/[수정]20210129 194122.png로 변환했습니다.\n",
      "datasets2/Human/[수정]20210129 193329.wav를 datasets3/Human_spec/[수정]20210129 193329.png로 변환했습니다.\n",
      "datasets2/Human/[수정]20210127 224640.wav를 datasets3/Human_spec/[수정]20210127 224640.png로 변환했습니다.\n",
      "datasets2/Human/[수정]20210129 192427.wav를 datasets3/Human_spec/[수정]20210129 192427.png로 변환했습니다.\n",
      "datasets2/Human/[수정]20210129 163435.wav를 datasets3/Human_spec/[수정]20210129 163435.png로 변환했습니다.\n",
      "datasets2/Human/[수정]20210128 205348.wav를 datasets3/Human_spec/[수정]20210128 205348.png로 변환했습니다.\n",
      "datasets2/Human/[수정]20210130 104326.wav를 datasets3/Human_spec/[수정]20210130 104326.png로 변환했습니다.\n",
      "datasets2/Human/[수정]20210128 210552.wav를 datasets3/Human_spec/[수정]20210128 210552.png로 변환했습니다.\n",
      "datasets2/Human/[수정]20210128 211658.wav를 datasets3/Human_spec/[수정]20210128 211658.png로 변환했습니다.\n",
      "datasets2/Human/[수정]20210129 222822.wav를 datasets3/Human_spec/[수정]20210129 222822.png로 변환했습니다.\n",
      "datasets2/Human/[수정]20210129 192546.wav를 datasets3/Human_spec/[수정]20210129 192546.png로 변환했습니다.\n",
      "datasets2/Human/[수정]20210129 192230.wav를 datasets3/Human_spec/[수정]20210129 192230.png로 변환했습니다.\n",
      "datasets2/Human/[수정]20210129 223325.wav를 datasets3/Human_spec/[수정]20210129 223325.png로 변환했습니다.\n",
      "datasets2/Human/[수정]20210128 151439.wav를 datasets3/Human_spec/[수정]20210128 151439.png로 변환했습니다.\n",
      "datasets2/Human/[수정]20210129 195952.wav를 datasets3/Human_spec/[수정]20210129 195952.png로 변환했습니다.\n",
      "datasets2/Human/[수정]20210129 193728.wav를 datasets3/Human_spec/[수정]20210129 193728.png로 변환했습니다.\n",
      "datasets2/Human/[수정]20210127 224334.wav를 datasets3/Human_spec/[수정]20210127 224334.png로 변환했습니다.\n",
      "datasets2/Human/[수정]20210126 221803.wav를 datasets3/Human_spec/[수정]20210126 221803.png로 변환했습니다.\n",
      "datasets2/Human/[수정]20210128 204536.wav를 datasets3/Human_spec/[수정]20210128 204536.png로 변환했습니다.\n",
      "datasets2/Human/[수정]20210128 152737.wav를 datasets3/Human_spec/[수정]20210128 152737.png로 변환했습니다.\n",
      "datasets2/Human/[수정]20210129 122848.wav를 datasets3/Human_spec/[수정]20210129 122848.png로 변환했습니다.\n",
      "datasets2/Human/[수정]20210126 220937.wav를 datasets3/Human_spec/[수정]20210126 220937.png로 변환했습니다.\n",
      "datasets2/Human/[수정]20210129 200258.wav를 datasets3/Human_spec/[수정]20210129 200258.png로 변환했습니다.\n",
      "datasets2/Human/[수정]20210126 223804.wav를 datasets3/Human_spec/[수정]20210126 223804.png로 변환했습니다.\n",
      "datasets2/Human/[수정]20210126 220458.wav를 datasets3/Human_spec/[수정]20210126 220458.png로 변환했습니다.\n",
      "datasets2/Human/[수정]20210128 214451.wav를 datasets3/Human_spec/[수정]20210128 214451.png로 변환했습니다.\n",
      "datasets2/Human/[수정]20210128 204124.wav를 datasets3/Human_spec/[수정]20210128 204124.png로 변환했습니다.\n",
      "datasets2/Human/[수정]20210126 223555.wav를 datasets3/Human_spec/[수정]20210126 223555.png로 변환했습니다.\n",
      "datasets2/Human/[수정]20210129 225804.wav를 datasets3/Human_spec/[수정]20210129 225804.png로 변환했습니다.\n",
      "datasets2/Human/[수정]20210128 210025.wav를 datasets3/Human_spec/[수정]20210128 210025.png로 변환했습니다.\n",
      "datasets2/Human/[수정]20210128 210742.wav를 datasets3/Human_spec/[수정]20210128 210742.png로 변환했습니다.\n",
      "datasets2/Human/[수정]20210129 124023.wav를 datasets3/Human_spec/[수정]20210129 124023.png로 변환했습니다.\n",
      "datasets2/Human/[수정]20210128 212800.wav를 datasets3/Human_spec/[수정]20210128 212800.png로 변환했습니다.\n",
      "datasets2/Human/[수정]20210126 224944.wav를 datasets3/Human_spec/[수정]20210126 224944.png로 변환했습니다.\n",
      "datasets2/Human/[수정]20210129 161741.wav를 datasets3/Human_spec/[수정]20210129 161741.png로 변환했습니다.\n",
      "datasets2/Human/[수정]20210129 162512.wav를 datasets3/Human_spec/[수정]20210129 162512.png로 변환했습니다.\n",
      "datasets2/Human/[수정]20210129 194535.wav를 datasets3/Human_spec/[수정]20210129 194535.png로 변환했습니다.\n",
      "datasets2/Human/[수정]20210129 194247.wav를 datasets3/Human_spec/[수정]20210129 194247.png로 변환했습니다.\n",
      "datasets2/Human/[수정]20210129 192959.wav를 datasets3/Human_spec/[수정]20210129 192959.png로 변환했습니다.\n",
      "datasets2/Human/[수정]20210128 150043.wav를 datasets3/Human_spec/[수정]20210128 150043.png로 변환했습니다.\n",
      "datasets2/Human/[수정]20210129 223455.wav를 datasets3/Human_spec/[수정]20210129 223455.png로 변환했습니다.\n",
      "datasets2/Human/[수정]20210126 144629.wav를 datasets3/Human_spec/[수정]20210126 144629.png로 변환했습니다.\n",
      "datasets2/Human/[수정]20210129 162658.wav를 datasets3/Human_spec/[수정]20210129 162658.png로 변환했습니다.\n",
      "datasets2/Human/[수정]20210129 124143.wav를 datasets3/Human_spec/[수정]20210129 124143.png로 변환했습니다.\n",
      "datasets2/Human/[수정]20210129 123823.wav를 datasets3/Human_spec/[수정]20210129 123823.png로 변환했습니다.\n",
      "datasets2/Human/[수정]20210129 225255.wav를 datasets3/Human_spec/[수정]20210129 225255.png로 변환했습니다.\n",
      "datasets2/Human/[수정]20210125 215851.wav를 datasets3/Human_spec/[수정]20210125 215851.png로 변환했습니다.\n",
      "datasets2/Human/[수정]20210128 213600.wav를 datasets3/Human_spec/[수정]20210128 213600.png로 변환했습니다.\n",
      "datasets2/Human/[수정]20210126 225817.wav를 datasets3/Human_spec/[수정]20210126 225817.png로 변환했습니다.\n",
      "datasets2/Human/[수정]20210128 205102.wav를 datasets3/Human_spec/[수정]20210128 205102.png로 변환했습니다.\n",
      "datasets2/Human/[수정]새로운 녹음 71.wav를 datasets3/Human_spec/[수정]새로운 녹음 71.png로 변환했습니다.\n",
      "datasets2/Human/[수정]20210126 225618.wav를 datasets3/Human_spec/[수정]20210126 225618.png로 변환했습니다.\n",
      "datasets2/Human/[수정]새로운 녹음 65.wav를 datasets3/Human_spec/[수정]새로운 녹음 65.png로 변환했습니다.\n",
      "datasets2/Human/[수정]20210126 150954.wav를 datasets3/Human_spec/[수정]20210126 150954.png로 변환했습니다.\n",
      "datasets2/Human/[수정]20210130 103825.wav를 datasets3/Human_spec/[수정]20210130 103825.png로 변환했습니다.\n",
      "datasets2/Human/[수정]20210127 225932.wav를 datasets3/Human_spec/[수정]20210127 225932.png로 변환했습니다.\n",
      "datasets2/Human/[수정]20210128 150421.wav를 datasets3/Human_spec/[수정]20210128 150421.png로 변환했습니다.\n",
      "datasets2/Human/[수정]20210126 162059.wav를 datasets3/Human_spec/[수정]20210126 162059.png로 변환했습니다.\n",
      "datasets2/Human/[수정]새로운 녹음 64.wav를 datasets3/Human_spec/[수정]새로운 녹음 64.png로 변환했습니다.\n",
      "datasets2/Human/[수정]20210129 163656.wav를 datasets3/Human_spec/[수정]20210129 163656.png로 변환했습니다.\n",
      "datasets2/Human/[수정]새로운 녹음 70.wav를 datasets3/Human_spec/[수정]새로운 녹음 70.png로 변환했습니다.\n",
      "datasets2/Human/[수정]20210126 222837.wav를 datasets3/Human_spec/[수정]20210126 222837.png로 변환했습니다.\n",
      "datasets2/Human/[수정]20210128 150543.wav를 datasets3/Human_spec/[수정]20210128 150543.png로 변환했습니다.\n",
      "datasets2/Human/[수정]20210128 205505.wav를 datasets3/Human_spec/[수정]20210128 205505.png로 변환했습니다.\n",
      "datasets2/Human/[수정]20210129 125211.wav를 datasets3/Human_spec/[수정]20210129 125211.png로 변환했습니다.\n",
      "datasets2/Human/[수정]20210129 123310.wav를 datasets3/Human_spec/[수정]20210129 123310.png로 변환했습니다.\n",
      "datasets2/Human/[수정]새로운 녹음 99.wav를 datasets3/Human_spec/[수정]새로운 녹음 99.png로 변환했습니다.\n",
      "datasets2/Human/[수정]새로운 녹음 66.wav를 datasets3/Human_spec/[수정]새로운 녹음 66.png로 변환했습니다.\n",
      "datasets2/Human/[수정]새로운 녹음 72.wav를 datasets3/Human_spec/[수정]새로운 녹음 72.png로 변환했습니다.\n",
      "datasets2/Human/[수정]20210126 223929.wav를 datasets3/Human_spec/[수정]20210126 223929.png로 변환했습니다.\n",
      "datasets2/Human/[수정]20210129 195459.wav를 datasets3/Human_spec/[수정]20210129 195459.png로 변환했습니다.\n",
      "datasets2/Human/[수정]20210130 104608.wav를 datasets3/Human_spec/[수정]20210130 104608.png로 변환했습니다.\n",
      "datasets2/Human/[수정]20210126 152629.wav를 datasets3/Human_spec/[수정]20210126 152629.png로 변환했습니다.\n",
      "datasets2/Human/[수정]20210128 213213.wav를 datasets3/Human_spec/[수정]20210128 213213.png로 변환했습니다.\n",
      "datasets2/Human/[수정]20210129 124735.wav를 datasets3/Human_spec/[수정]20210129 124735.png로 변환했습니다.\n",
      "datasets2/Human/[수정]20210128 204747.wav를 datasets3/Human_spec/[수정]20210128 204747.png로 변환했습니다.\n",
      "datasets2/Human/[수정]20210126 225356.wav를 datasets3/Human_spec/[수정]20210126 225356.png로 변환했습니다.\n",
      "datasets2/Human/[수정]20210129 130033.wav를 datasets3/Human_spec/[수정]20210129 130033.png로 변환했습니다.\n",
      "datasets2/Human/[수정]20210126 111249.wav를 datasets3/Human_spec/[수정]20210126 111249.png로 변환했습니다.\n",
      "datasets2/Human/[수정]20210128 202135.wav를 datasets3/Human_spec/[수정]20210128 202135.png로 변환했습니다.\n",
      "datasets2/Human/[수정]새로운 녹음 73.wav를 datasets3/Human_spec/[수정]새로운 녹음 73.png로 변환했습니다.\n",
      "datasets2/Human/[수정]새로운 녹음 67.wav를 datasets3/Human_spec/[수정]새로운 녹음 67.png로 변환했습니다.\n",
      "datasets2/Human/[수정]새로운 녹음 98.wav를 datasets3/Human_spec/[수정]새로운 녹음 98.png로 변환했습니다.\n",
      "datasets2/Human/[수정]20210126 145817.wav를 datasets3/Human_spec/[수정]20210126 145817.png로 변환했습니다.\n",
      "datasets2/Human/[수정]20210127 224811.wav를 datasets3/Human_spec/[수정]20210127 224811.png로 변환했습니다.\n",
      "datasets2/Human/[수정]20210129 161320.wav를 datasets3/Human_spec/[수정]20210129 161320.png로 변환했습니다.\n",
      "datasets2/Human/[수정]20210130 111348.wav를 datasets3/Human_spec/[수정]20210130 111348.png로 변환했습니다.\n",
      "datasets2/Human/[수정]20210125 222553.wav를 datasets3/Human_spec/[수정]20210125 222553.png로 변환했습니다.\n",
      "datasets2/Human/[수정]20210125 215314.wav를 datasets3/Human_spec/[수정]20210125 215314.png로 변환했습니다.\n",
      "datasets2/Human/[수정]새로운 녹음 88.wav를 datasets3/Human_spec/[수정]새로운 녹음 88.png로 변환했습니다.\n",
      "datasets2/Human/[수정]새로운 녹음 63.wav를 datasets3/Human_spec/[수정]새로운 녹음 63.png로 변환했습니다.\n",
      "datasets2/Human/[수정]20210126 224500.wav를 datasets3/Human_spec/[수정]20210126 224500.png로 변환했습니다.\n",
      "datasets2/Human/[수정]20210126 230213.wav를 datasets3/Human_spec/[수정]20210126 230213.png로 변환했습니다.\n",
      "datasets2/Human/[수정]새로운 녹음 77.wav를 datasets3/Human_spec/[수정]새로운 녹음 77.png로 변환했습니다.\n",
      "datasets2/Human/[수정]20210129 223959.wav를 datasets3/Human_spec/[수정]20210129 223959.png로 변환했습니다.\n",
      "datasets2/Human/[수정]새로운 녹음 102.wav를 datasets3/Human_spec/[수정]새로운 녹음 102.png로 변환했습니다.\n",
      "datasets2/Human/[수정]20210130 110123.wav를 datasets3/Human_spec/[수정]20210130 110123.png로 변환했습니다.\n",
      "datasets2/Human/[수정]20210128 210911.wav를 datasets3/Human_spec/[수정]20210128 210911.png로 변환했습니다.\n",
      "datasets2/Human/[수정]20210129 124916.wav를 datasets3/Human_spec/[수정]20210129 124916.png로 변환했습니다.\n",
      "datasets2/Human/[수정]새로운 녹음 76.wav를 datasets3/Human_spec/[수정]새로운 녹음 76.png로 변환했습니다.\n",
      "datasets2/Human/[수정]새로운 녹음 89.wav를 datasets3/Human_spec/[수정]새로운 녹음 89.png로 변환했습니다.\n",
      "datasets2/Human/[수정]20210126 112157.wav를 datasets3/Human_spec/[수정]20210126 112157.png로 변환했습니다.\n",
      "datasets2/Human/[수정]20210128 214626.wav를 datasets3/Human_spec/[수정]20210128 214626.png로 변환했습니다.\n",
      "datasets2/Human/[수정]20210129 124321.wav를 datasets3/Human_spec/[수정]20210129 124321.png로 변환했습니다.\n",
      "datasets2/Human/[수정]20210128 203428.wav를 datasets3/Human_spec/[수정]20210128 203428.png로 변환했습니다.\n",
      "datasets2/Human/[수정]20210126 145557.wav를 datasets3/Human_spec/[수정]20210126 145557.png로 변환했습니다.\n",
      "datasets2/Human/[수정]20210129 123116.wav를 datasets3/Human_spec/[수정]20210129 123116.png로 변환했습니다.\n",
      "datasets2/Human/[수정]20210125 214547.wav를 datasets3/Human_spec/[수정]20210125 214547.png로 변환했습니다.\n",
      "datasets2/Human/[수정]20210125 225956.wav를 datasets3/Human_spec/[수정]20210125 225956.png로 변환했습니다.\n",
      "datasets2/Human/[수정]20210128 220030.wav를 datasets3/Human_spec/[수정]20210128 220030.png로 변환했습니다.\n",
      "datasets2/Human/[수정]20210128 152408.wav를 datasets3/Human_spec/[수정]20210128 152408.png로 변환했습니다.\n",
      "datasets2/Human/[수정]20210126 230628.wav를 datasets3/Human_spec/[수정]20210126 230628.png로 변환했습니다.\n",
      "datasets2/Human/[수정]20210128 214817.wav를 datasets3/Human_spec/[수정]20210128 214817.png로 변환했습니다.\n",
      "datasets2/Human/[수정]20210126 220639.wav를 datasets3/Human_spec/[수정]20210126 220639.png로 변환했습니다.\n",
      "datasets2/Human/[수정]20210130 105706.wav를 datasets3/Human_spec/[수정]20210130 105706.png로 변환했습니다.\n",
      "datasets2/Human/[수정]새로운 녹음 74.wav를 datasets3/Human_spec/[수정]새로운 녹음 74.png로 변환했습니다.\n",
      "datasets2/Human/[수정]20210125 224914.wav를 datasets3/Human_spec/[수정]20210125 224914.png로 변환했습니다.\n",
      "datasets2/Human/[수정]20210129 124519.wav를 datasets3/Human_spec/[수정]20210129 124519.png로 변환했습니다.\n",
      "datasets2/Human/[수정]새로운 녹음 101.wav를 datasets3/Human_spec/[수정]새로운 녹음 101.png로 변환했습니다.\n",
      "datasets2/Human/[수정]20210129 125410.wav를 datasets3/Human_spec/[수정]20210129 125410.png로 변환했습니다.\n",
      "datasets2/Human/[수정]새로운 녹음 100.wav를 datasets3/Human_spec/[수정]새로운 녹음 100.png로 변환했습니다.\n",
      "datasets2/Human/[수정]새로운 녹음 75.wav를 datasets3/Human_spec/[수정]새로운 녹음 75.png로 변환했습니다.\n",
      "datasets2/Human/[수정]20210128 214023.wav를 datasets3/Human_spec/[수정]20210128 214023.png로 변환했습니다.\n",
      "datasets2/Human/[수정]20210130 104948.wav를 datasets3/Human_spec/[수정]20210130 104948.png로 변환했습니다.\n",
      "datasets2/Human/[수정]20210128 215907.wav를 datasets3/Human_spec/[수정]20210128 215907.png로 변환했습니다.\n",
      "datasets2/Human/[수정]20210126 223102.wav를 datasets3/Human_spec/[수정]20210126 223102.png로 변환했습니다.\n",
      "datasets2/Human/[수정]새로운 녹음 93.wav를 datasets3/Human_spec/[수정]새로운 녹음 93.png로 변환했습니다.\n",
      "datasets2/Human/[수정]새로운 녹음 87.wav를 datasets3/Human_spec/[수정]새로운 녹음 87.png로 변환했습니다.\n",
      "datasets2/Human/[수정]새로운 녹음 78.wav를 datasets3/Human_spec/[수정]새로운 녹음 78.png로 변환했습니다.\n",
      "datasets2/Human/[수정]20210128 203022.wav를 datasets3/Human_spec/[수정]20210128 203022.png로 변환했습니다.\n",
      "datasets2/Human/[수정]20210126 221112.wav를 datasets3/Human_spec/[수정]20210126 221112.png로 변환했습니다.\n",
      "datasets2/Human/[수정]20210128 203745.wav를 datasets3/Human_spec/[수정]20210128 203745.png로 변환했습니다.\n",
      "datasets2/Human/[수정]새로운 녹음 79.wav를 datasets3/Human_spec/[수정]새로운 녹음 79.png로 변환했습니다.\n",
      "datasets2/Human/[수정]새로운 녹음 86.wav를 datasets3/Human_spec/[수정]새로운 녹음 86.png로 변환했습니다.\n",
      "datasets2/Human/[수정]새로운 녹음 92.wav를 datasets3/Human_spec/[수정]새로운 녹음 92.png로 변환했습니다.\n",
      "datasets2/Human/[수정]20210129 130401.wav를 datasets3/Human_spec/[수정]20210129 130401.png로 변환했습니다.\n",
      "datasets2/Human/[수정]20210126 224320.wav를 datasets3/Human_spec/[수정]20210126 224320.png로 변환했습니다.\n",
      "datasets2/Human/[수정]20210128 151332.wav를 datasets3/Human_spec/[수정]20210128 151332.png로 변환했습니다.\n",
      "datasets2/Human/[수정]20210126 225943.wav를 datasets3/Human_spec/[수정]20210126 225943.png로 변환했습니다.\n",
      "datasets2/Human/[수정]20210129 193157.wav를 datasets3/Human_spec/[수정]20210129 193157.png로 변환했습니다.\n",
      "datasets2/Human/[수정]20210129 195242.wav를 datasets3/Human_spec/[수정]20210129 195242.png로 변환했습니다.\n",
      "datasets2/Human/[수정]20210129 123457.wav를 datasets3/Human_spec/[수정]20210129 123457.png로 변환했습니다.\n",
      "datasets2/Human/[수정]20210128 202840.wav를 datasets3/Human_spec/[수정]20210128 202840.png로 변환했습니다.\n",
      "datasets2/Human/[수정]새로운 녹음 84.wav를 datasets3/Human_spec/[수정]새로운 녹음 84.png로 변환했습니다.\n",
      "datasets2/Human/[수정]새로운 녹음 90.wav를 datasets3/Human_spec/[수정]새로운 녹음 90.png로 변환했습니다.\n",
      "datasets2/Human/[수정]20210129 193948.wav를 datasets3/Human_spec/[수정]20210129 193948.png로 변환했습니다.\n",
      "datasets2/Human/[수정]20210129 122628.wav를 datasets3/Human_spec/[수정]20210129 122628.png로 변환했습니다.\n",
      "datasets2/Human/[수정]새로운 녹음 91.wav를 datasets3/Human_spec/[수정]새로운 녹음 91.png로 변환했습니다.\n",
      "datasets2/Human/[수정]새로운 녹음 85.wav를 datasets3/Human_spec/[수정]새로운 녹음 85.png로 변환했습니다.\n",
      "datasets2/Human/[수정]20210129 230109.wav를 datasets3/Human_spec/[수정]20210129 230109.png로 변환했습니다.\n",
      "datasets2/Human/[수정]20210128 151655.wav를 datasets3/Human_spec/[수정]20210128 151655.png로 변환했습니다.\n",
      "datasets2/Human/[수정]20210129 225058.wav를 datasets3/Human_spec/[수정]20210129 225058.png로 변환했습니다.\n",
      "datasets2/Human/[수정]새로운 녹음 81.wav를 datasets3/Human_spec/[수정]새로운 녹음 81.png로 변환했습니다.\n",
      "datasets2/Human/[수정]새로운 녹음 95.wav를 datasets3/Human_spec/[수정]새로운 녹음 95.png로 변환했습니다.\n",
      "datasets2/Human/[수정]새로운 녹음 94.wav를 datasets3/Human_spec/[수정]새로운 녹음 94.png로 변환했습니다.\n",
      "datasets2/Human/[수정]새로운 녹음 80.wav를 datasets3/Human_spec/[수정]새로운 녹음 80.png로 변환했습니다.\n",
      "datasets2/Human/[수정]20210128 215733.wav를 datasets3/Human_spec/[수정]20210128 215733.png로 변환했습니다.\n",
      "datasets2/Human/[수정]20210129 194825.wav를 datasets3/Human_spec/[수정]20210129 194825.png로 변환했습니다.\n",
      "datasets2/Human/[수정]20210126 221923.wav를 datasets3/Human_spec/[수정]20210126 221923.png로 변환했습니다.\n",
      "datasets2/Human/[수정]20210129 123647.wav를 datasets3/Human_spec/[수정]20210129 123647.png로 변환했습니다.\n",
      "datasets2/Human/[수정]20210128 213340.wav를 datasets3/Human_spec/[수정]20210128 213340.png로 변환했습니다.\n",
      "datasets2/Human/[수정]20210129 192715.wav를 datasets3/Human_spec/[수정]20210129 192715.png로 변환했습니다.\n",
      "datasets2/Human/[수정]20210128 205708.wav를 datasets3/Human_spec/[수정]20210128 205708.png로 변환했습니다.\n",
      "datasets2/Human/[수정]새로운 녹음 96.wav를 datasets3/Human_spec/[수정]새로운 녹음 96.png로 변환했습니다.\n",
      "datasets2/Human/[수정]새로운 녹음 82.wav를 datasets3/Human_spec/[수정]새로운 녹음 82.png로 변환했습니다.\n",
      "datasets2/Human/[수정]새로운 녹음 69.wav를 datasets3/Human_spec/[수정]새로운 녹음 69.png로 변환했습니다.\n",
      "datasets2/Human/[수정]20210127 225254.wav를 datasets3/Human_spec/[수정]20210127 225254.png로 변환했습니다.\n",
      "datasets2/Human/[수정]20210128 201354.wav를 datasets3/Human_spec/[수정]20210128 201354.png로 변환했습니다.\n",
      "datasets2/Human/[수정]20210130 105256.wav를 datasets3/Human_spec/[수정]20210130 105256.png로 변환했습니다.\n",
      "datasets2/Human/[수정]20210128 211146.wav를 datasets3/Human_spec/[수정]20210128 211146.png로 변환했습니다.\n",
      "datasets2/Human/[수정]새로운 녹음 68.wav를 datasets3/Human_spec/[수정]새로운 녹음 68.png로 변환했습니다.\n",
      "datasets2/Human/[수정]20210128 150834.wav를 datasets3/Human_spec/[수정]20210128 150834.png로 변환했습니다.\n",
      "datasets2/Human/[수정]새로운 녹음 83.wav를 datasets3/Human_spec/[수정]새로운 녹음 83.png로 변환했습니다.\n",
      "datasets2/Human/[수정]새로운 녹음 97.wav를 datasets3/Human_spec/[수정]새로운 녹음 97.png로 변환했습니다.\n",
      "datasets2/Human/[수정]20210126 162243.wav를 datasets3/Human_spec/[수정]20210126 162243.png로 변환했습니다.\n",
      "datasets2/Human/[수정]20210126 230422.wav를 datasets3/Human_spec/[수정]20210126 230422.png로 변환했습니다.\n",
      "datasets2/Human/[수정]20210128 210338.wav를 datasets3/Human_spec/[수정]20210128 210338.png로 변환했습니다.\n",
      "datasets2/Human/[수정]20210128 215526.wav를 datasets3/Human_spec/[수정]20210128 215526.png로 변환했습니다.\n",
      "datasets2/Human/[수정]20210128 150940.wav를 datasets3/Human_spec/[수정]20210128 150940.png로 변환했습니다.\n",
      "datasets2/Human/[수정]20210128 153246.wav를 datasets3/Human_spec/[수정]20210128 153246.png로 변환했습니다.\n",
      "datasets2/Human/[수정]20210128 202258.wav를 datasets3/Human_spec/[수정]20210128 202258.png로 변환했습니다.\n",
      "datasets2/Human/[수정]20210128 212945.wav를 datasets3/Human_spec/[수정]20210128 212945.png로 변환했습니다.\n",
      "datasets2/Human/[수정]20210128 201736.wav를 datasets3/Human_spec/[수정]20210128 201736.png로 변환했습니다.\n",
      "datasets2/Human/[수정]20210128 213859.wav를 datasets3/Human_spec/[수정]20210128 213859.png로 변환했습니다.\n",
      "datasets2/Human/[수정]20210128 215227.wav를 datasets3/Human_spec/[수정]20210128 215227.png로 변환했습니다.\n",
      "datasets2/Human/[수정]20210126 221548.wav를 datasets3/Human_spec/[수정]20210126 221548.png로 변환했습니다.\n",
      "datasets2/Human/[수정]20210127 225408.wav를 datasets3/Human_spec/[수정]20210127 225408.png로 변환했습니다.\n",
      "datasets2/Human/[수정]20210129 162052.wav를 datasets3/Human_spec/[수정]20210129 162052.png로 변환했습니다.\n",
      "datasets2/Human/[수정]20210128 213723.wav를 datasets3/Human_spec/[수정]20210128 213723.png로 변환했습니다.\n",
      "datasets2/Human/[수정]20210129 162318.wav를 datasets3/Human_spec/[수정]20210129 162318.png로 변환했습니다.\n",
      "datasets2/Human/[수정]20210128 211915.wav를 datasets3/Human_spec/[수정]20210128 211915.png로 변환했습니다.\n",
      "datasets2/Human/[수정]20210126 231202.wav를 datasets3/Human_spec/[수정]20210126 231202.png로 변환했습니다.\n",
      "datasets2/Human/[수정]20210126 224627.wav를 datasets3/Human_spec/[수정]20210126 224627.png로 변환했습니다.\n",
      "datasets2/Human/[수정]20210129 223659.wav를 datasets3/Human_spec/[수정]20210129 223659.png로 변환했습니다.\n",
      "datasets2/Human/[수정]20210129 223117.wav를 datasets3/Human_spec/[수정]20210129 223117.png로 변환했습니다.\n",
      "datasets2/Human/[수정]20210126 222644.wav를 datasets3/Human_spec/[수정]20210126 222644.png로 변환했습니다.\n",
      "datasets2/Human/[수정]20210129 161559.wav를 datasets3/Human_spec/[수정]20210129 161559.png로 변환했습니다.\n",
      "datasets2/Human/[수정]20210129 224725.wav를 datasets3/Human_spec/[수정]20210129 224725.png로 변환했습니다.\n",
      "datasets2/Human/[수정]20210129 195803.wav를 datasets3/Human_spec/[수정]20210129 195803.png로 변환했습니다.\n",
      "datasets2/Human/[수정]20210126 221416.wav를 datasets3/Human_spec/[수정]20210126 221416.png로 변환했습니다.\n",
      "datasets2/Human/[수정]20210128 214311.wav를 datasets3/Human_spec/[수정]20210128 214311.png로 변환했습니다.\n",
      "datasets2/Human/[수정]20210126 224142.wav를 datasets3/Human_spec/[수정]20210126 224142.png로 변환했습니다.\n",
      "datasets2/Human/[수정]20210130 104059.wav를 datasets3/Human_spec/[수정]20210130 104059.png로 변환했습니다.\n",
      "datasets2/Human/[수정]20210129 195032.wav를 datasets3/Human_spec/[수정]20210129 195032.png로 변환했습니다.\n",
      "datasets2/Human/[수정]20210129 222608.wav를 datasets3/Human_spec/[수정]20210129 222608.png로 변환했습니다.\n",
      "datasets2/Human/[수정]20210129 195620.wav를 datasets3/Human_spec/[수정]20210129 195620.png로 변환했습니다.\n",
      "datasets2/Human/[수정]20210128 204258.wav를 datasets3/Human_spec/[수정]20210128 204258.png로 변환했습니다.\n",
      "datasets2/Human/[수정]20210129 192833.wav를 datasets3/Human_spec/[수정]20210129 192833.png로 변환했습니다.\n",
      "datasets2/Human/[수정]20210128 214937.wav를 datasets3/Human_spec/[수정]20210128 214937.png로 변환했습니다.\n",
      "datasets2/Human/[수정]20210128 153030.wav를 datasets3/Human_spec/[수정]20210128 153030.png로 변환했습니다.\n",
      "datasets2/Human/[수정]20210127 225816.wav를 datasets3/Human_spec/[수정]20210127 225816.png로 변환했습니다.\n",
      "datasets2/Human/[수정]20210129 192038.wav를 datasets3/Human_spec/[수정]20210129 192038.png로 변환했습니다.\n",
      "datasets2/Human/[수정]20210129 224332.wav를 datasets3/Human_spec/[수정]20210129 224332.png로 변환했습니다.\n",
      "datasets2/Human/[수정]20210128 204918.wav를 datasets3/Human_spec/[수정]20210128 204918.png로 변환했습니다.\n",
      "datasets2/Human/[수정]20210128 211455.wav를 datasets3/Human_spec/[수정]20210128 211455.png로 변환했습니다.\n",
      "datasets2/Human/[수정]20210129 224910.wav를 datasets3/Human_spec/[수정]20210129 224910.png로 변환했습니다.\n",
      "datasets2/Human/[수정]20210128 150300.wav를 datasets3/Human_spec/[수정]20210128 150300.png로 변환했습니다.\n",
      "datasets2/Human/[수정]20210130 110823.wav를 datasets3/Human_spec/[수정]20210130 110823.png로 변환했습니다.\n",
      "datasets2/Human/[수정]20210128 215343.wav를 datasets3/Human_spec/[수정]20210128 215343.png로 변환했습니다.\n",
      "datasets2/Human/[수정]20210128 151208.wav를 datasets3/Human_spec/[수정]20210128 151208.png로 변환했습니다.\n",
      "datasets2/Human/[수정]20210129 230352.wav를 datasets3/Human_spec/[수정]20210129 230352.png로 변환했습니다.\n",
      "모든 WAV 파일을 Spectrogram 파일로 변환했습니다.\n"
     ]
    }
   ],
   "source": [
    "#Human WAV 파일을 Spectogram으로 변환\n",
    "import os\n",
    "\n",
    "# 원본 WAV 파일이 있는 폴더와 변환된 Spec 파일을 저장할 폴더 경로 설정\n",
    "input_folder = 'datasets/Human'  # WAV 파일이 있는 폴더\n",
    "output_folder = 'datasets2/Human_spec'  # Spec 파일을 저장할 폴더\n",
    "\n",
    "# 출력 폴더가 없으면 생성\n",
    "os.makedirs(output_folder, exist_ok=True)\n",
    "\n",
    "# 입력 폴더의 모든 파일을 순회\n",
    "for filename in os.listdir(input_folder):\n",
    "    if filename.endswith('.wav'):\n",
    "        if filename == '.DS_Store':\n",
    "            continue\n",
    "        file_path = os.path.join(input_folder, filename)\n",
    "        spec_filename = os.path.splitext(filename)[0] + '.png'\n",
    "        spec_path = os.path.join(output_folder, spec_filename)\n",
    "        \n",
    "        spectrogram, sr = audio_to_spectrogram(file_path)\n",
    "        \n",
    "        save_spectrogram_image(spectrogram, sr, spec_path)\n",
    "        \n",
    "        print(f\"{file_path}를 {spec_path}로 변환했습니다.\")\n",
    "\n",
    "print(\"모든 WAV 파일을 Spectrogram 파일로 변환했습니다.\")\n"
   ]
  },
  {
   "cell_type": "code",
   "execution_count": null,
   "id": "2474c0fb-51ac-4524-b784-57b4bc8cc6e9",
   "metadata": {},
   "outputs": [],
   "source": []
  },
  {
   "cell_type": "code",
   "execution_count": null,
   "id": "2661d4f1-5953-49aa-b90b-826bfb817bd9",
   "metadata": {},
   "outputs": [],
   "source": []
  },
  {
   "cell_type": "code",
   "execution_count": 8,
   "id": "92d1b8a8-7075-46e0-8b43-e7e44f682d9f",
   "metadata": {},
   "outputs": [
    {
     "name": "stderr",
     "output_type": "stream",
     "text": [
      "/var/folders/s4/y_mv_22949l2v878sknjf3g00000gn/T/ipykernel_947/2390485956.py:7: UserWarning: PySoundFile failed. Trying audioread instead.\n",
      "  y, sr = librosa.load(file_path)\n"
     ]
    },
    {
     "data": {
      "text/plain": [
       "(array([[-71.63002, -69.00364, -68.11598, ..., -80.     , -80.     ,\n",
       "         -80.     ],\n",
       "        [-80.     , -80.     , -80.     , ..., -80.     , -80.     ,\n",
       "         -80.     ],\n",
       "        [-80.     , -80.     , -80.     , ..., -80.     , -80.     ,\n",
       "         -80.     ],\n",
       "        ...,\n",
       "        [-80.     , -80.     , -80.     , ..., -80.     , -80.     ,\n",
       "         -80.     ],\n",
       "        [-80.     , -80.     , -80.     , ..., -80.     , -80.     ,\n",
       "         -80.     ],\n",
       "        [-80.     , -80.     , -80.     , ..., -80.     , -80.     ,\n",
       "         -80.     ]], dtype=float32),\n",
       " 22050)"
      ]
     },
     "execution_count": 8,
     "metadata": {},
     "output_type": "execute_result"
    }
   ],
   "source": [
    "audio_to_spectrogram('datasets/AI/[Full] 윈터 - 예뻤어 (데이식스)  aespa winter - You Were Beautiful (Day6) cover AI 커버.wav')"
   ]
  },
  {
   "cell_type": "code",
   "execution_count": 10,
   "id": "bc38aaf3-6c4f-4d65-b137-531c5d7b5e4b",
   "metadata": {},
   "outputs": [
    {
     "data": {
      "text/plain": [
       "(array([[-80.      , -80.      , -80.      , ..., -27.804405, -26.588478,\n",
       "         -39.80556 ],\n",
       "        [-80.      , -80.      , -80.      , ..., -21.667063, -23.620106,\n",
       "         -39.823776],\n",
       "        [-80.      , -80.      , -80.      , ..., -20.705994, -25.356789,\n",
       "         -40.67853 ],\n",
       "        ...,\n",
       "        [-80.      , -80.      , -80.      , ..., -55.315304, -56.845535,\n",
       "         -75.74982 ],\n",
       "        [-80.      , -80.      , -80.      , ..., -61.096943, -63.000824,\n",
       "         -80.      ],\n",
       "        [-80.      , -80.      , -80.      , ..., -73.78618 , -75.491714,\n",
       "         -80.      ]], dtype=float32),\n",
       " 22050)"
      ]
     },
     "execution_count": 10,
     "metadata": {},
     "output_type": "execute_result"
    }
   ],
   "source": [
    "audio_to_spectrogram('datasets/Human/3년 만에 너클 커브를 완성시킨 투수 이대은 shorts 최강야구.wav의 사본.wav')"
   ]
  },
  {
   "cell_type": "markdown",
   "id": "193835c1-bfc1-46bb-a671-7e84982a1bff",
   "metadata": {},
   "source": [
    "#### dataset 불러오기"
   ]
  },
  {
   "cell_type": "code",
   "execution_count": 32,
   "id": "b02c7763-3ba7-4141-ba92-86034d4c429a",
   "metadata": {},
   "outputs": [],
   "source": [
    "import librosa\n",
    "import librosa.display\n",
    "import matplotlib.pyplot as plt\n",
    "import numpy as np\n",
    "\n",
    "def audio_to_spectrogram2(file_path):\n",
    "    y, sr = librosa.load(file_path)\n",
    "    spectrogram = librosa.feature.melspectrogram(y=y, sr=sr)\n",
    "    log_spectrogram = librosa.power_to_db(spectrogram, ref=np.max)\n",
    "    return log_spectrogram "
   ]
  },
  {
   "cell_type": "code",
   "execution_count": 33,
   "id": "b76e9b7e-48e6-4855-928f-3f282d73018f",
   "metadata": {},
   "outputs": [],
   "source": [
    "import os\n",
    "import random\n",
    "from tqdm import tqdm\n",
    "\n",
    "def create_datasets(root, num) : \n",
    "    data = []\n",
    "    \n",
    "    # Iterating through the folders and files to extract features\n",
    "    for folder in os.listdir(root):\n",
    "        folderPath = os.path.join(root, folder)\n",
    "        if folder in [\".DS_Store\", \"label.csv\", \"datasets.json\"]:\n",
    "                continue\n",
    "            \n",
    "        all_files = os.listdir(folderPath)\n",
    "        valid_files = [file for file in all_files if file != '.DS_Store']\n",
    "        \n",
    "        if len(valid_files) > num:\n",
    "            files_to_process = random.sample(valid_files, num)\n",
    "        else:\n",
    "            files_to_process = valid_files\n",
    "            \n",
    "        for file in tqdm(files_to_process, desc = f'Processing folder {folder}'):\n",
    "            filePath = os.path.join(folderPath, file)\n",
    "            if file == '.DS_Store':\n",
    "                continue\n",
    "            try : \n",
    "                features = audio_to_spectrogram2(filePath)\n",
    "            \n",
    "                if features is not None:\n",
    "                    data.append([features, folder, file])\n",
    "                    \n",
    "            except Exception as e:\n",
    "                print(f\"Error reading file {filePath}: {e}\")\n",
    "    return data"
   ]
  },
  {
   "cell_type": "markdown",
   "id": "cb463915-f42d-49a0-b14f-81a67cea060e",
   "metadata": {},
   "source": [
    "##### STS1_datasets"
   ]
  },
  {
   "cell_type": "code",
   "execution_count": 34,
   "id": "f34946b7-9f85-4796-ae2d-abb7728db345",
   "metadata": {
    "scrolled": true
   },
   "outputs": [
    {
     "name": "stderr",
     "output_type": "stream",
     "text": [
      "Processing folder AI: 100%|█████████████████| 2834/2834 [00:36<00:00, 77.02it/s]\n"
     ]
    }
   ],
   "source": [
    "root = 'datasets/STS1_datasets_10s'\n",
    "STS1_data = create_datasets(root, 3000)"
   ]
  },
  {
   "cell_type": "markdown",
   "id": "e3decf0c-43b7-4e95-9900-fdb94e5cfab4",
   "metadata": {},
   "source": [
    "##### STS2_datasets"
   ]
  },
  {
   "cell_type": "code",
   "execution_count": 35,
   "id": "c5169d3b-56e0-49f3-b94f-7dbe8643622d",
   "metadata": {},
   "outputs": [
    {
     "name": "stderr",
     "output_type": "stream",
     "text": [
      "Processing folder AI: 100%|█████████████████| 1049/1049 [00:11<00:00, 88.68it/s]\n"
     ]
    }
   ],
   "source": [
    "import os\n",
    "import random\n",
    "from tqdm import tqdm\n",
    "\n",
    "root = 'datasets/STS2_datasets_10s'\n",
    "STS2_data = create_datasets(root, 1100)"
   ]
  },
  {
   "cell_type": "markdown",
   "id": "df5e3518-8854-4e07-bf48-60f8958c87c1",
   "metadata": {},
   "source": [
    "##### STS3_datasets"
   ]
  },
  {
   "cell_type": "code",
   "execution_count": 36,
   "id": "d74eaa6d-a186-4e9f-af87-9281e24b2474",
   "metadata": {},
   "outputs": [
    {
     "name": "stderr",
     "output_type": "stream",
     "text": [
      "Processing folder AI: 100%|█████████████████| 3082/3082 [00:35<00:00, 85.88it/s]\n"
     ]
    }
   ],
   "source": [
    "import os\n",
    "import random\n",
    "from tqdm import tqdm\n",
    "\n",
    "root = 'datasets/STS3_datasets_10s'\n",
    "STS3_data = create_datasets(root, 3100)"
   ]
  },
  {
   "cell_type": "markdown",
   "id": "87c49df3-6029-4a9f-aa5d-21286b98db08",
   "metadata": {},
   "source": [
    "##### Human_datasets"
   ]
  },
  {
   "cell_type": "code",
   "execution_count": 37,
   "id": "5fd23ef9-f85e-4df4-9671-b1cd393a181c",
   "metadata": {},
   "outputs": [
    {
     "name": "stderr",
     "output_type": "stream",
     "text": [
      "Processing folder Human: 100%|██████████████| 3264/3264 [00:48<00:00, 67.79it/s]\n"
     ]
    }
   ],
   "source": [
    "import os\n",
    "import random\n",
    "from tqdm import tqdm\n",
    "\n",
    "root = 'datasets/Human_datasets_10s'\n",
    "Human_data = create_datasets(root, 3300)"
   ]
  },
  {
   "cell_type": "markdown",
   "id": "a78759ee-1b8d-4db8-9711-9fd29bd5d2d1",
   "metadata": {},
   "source": [
    "##### 각 폴더에서 불러온 datasets 합치기"
   ]
  },
  {
   "cell_type": "code",
   "execution_count": 38,
   "id": "08ceeac0-892a-4371-8cb7-716eca5d2fd5",
   "metadata": {},
   "outputs": [],
   "source": [
    "data = STS1_data + STS2_data + STS3_data + Human_data"
   ]
  },
  {
   "cell_type": "code",
   "execution_count": 39,
   "id": "6e008c24-bb75-4fc3-882e-90601e20f7db",
   "metadata": {},
   "outputs": [
    {
     "data": {
      "text/html": [
       "<div>\n",
       "<style scoped>\n",
       "    .dataframe tbody tr th:only-of-type {\n",
       "        vertical-align: middle;\n",
       "    }\n",
       "\n",
       "    .dataframe tbody tr th {\n",
       "        vertical-align: top;\n",
       "    }\n",
       "\n",
       "    .dataframe thead th {\n",
       "        text-align: right;\n",
       "    }\n",
       "</style>\n",
       "<table border=\"1\" class=\"dataframe\">\n",
       "  <thead>\n",
       "    <tr style=\"text-align: right;\">\n",
       "      <th></th>\n",
       "      <th>Features</th>\n",
       "      <th>Class</th>\n",
       "      <th>File Name</th>\n",
       "    </tr>\n",
       "  </thead>\n",
       "  <tbody>\n",
       "    <tr>\n",
       "      <th>0</th>\n",
       "      <td>[[-80.0, -80.0, -72.33777, -51.089428, -42.264...</td>\n",
       "      <td>AI</td>\n",
       "      <td>AI_1_금감원_인간음성_52_18_1.wav</td>\n",
       "    </tr>\n",
       "    <tr>\n",
       "      <th>1</th>\n",
       "      <td>[[-80.0, -80.0, -80.0, -54.857285, -43.48955, ...</td>\n",
       "      <td>AI</td>\n",
       "      <td>AI_1_MBC 라디오 사연 하이라이트 엠라대왕 41...</td>\n",
       "    </tr>\n",
       "    <tr>\n",
       "      <th>2</th>\n",
       "      <td>[[-80.0, -80.0, -80.0, -63.731506, -52.125282,...</td>\n",
       "      <td>AI</td>\n",
       "      <td>AI_1_금감원_인간음성_53_18_1.wav</td>\n",
       "    </tr>\n",
       "    <tr>\n",
       "      <th>3</th>\n",
       "      <td>[[-80.0, -80.0, -71.883804, -51.05206, -42.122...</td>\n",
       "      <td>AI</td>\n",
       "      <td>AI_1_[수정]20210126 224320_5_1.wav</td>\n",
       "    </tr>\n",
       "    <tr>\n",
       "      <th>4</th>\n",
       "      <td>[[-80.0, -80.0, -80.0, -59.00141, -47.686546, ...</td>\n",
       "      <td>AI</td>\n",
       "      <td>AI_1_MBC 라디오 사연 하이라이트 엠라대왕 49...</td>\n",
       "    </tr>\n",
       "  </tbody>\n",
       "</table>\n",
       "</div>"
      ],
      "text/plain": [
       "                                            Features Class  \\\n",
       "0  [[-80.0, -80.0, -72.33777, -51.089428, -42.264...    AI   \n",
       "1  [[-80.0, -80.0, -80.0, -54.857285, -43.48955, ...    AI   \n",
       "2  [[-80.0, -80.0, -80.0, -63.731506, -52.125282,...    AI   \n",
       "3  [[-80.0, -80.0, -71.883804, -51.05206, -42.122...    AI   \n",
       "4  [[-80.0, -80.0, -80.0, -59.00141, -47.686546, ...    AI   \n",
       "\n",
       "                                           File Name  \n",
       "0            AI_1_금감원_인간음성_52_18_1.wav  \n",
       "1  AI_1_MBC 라디오 사연 하이라이트 엠라대왕 41...  \n",
       "2            AI_1_금감원_인간음성_53_18_1.wav  \n",
       "3                AI_1_[수정]20210126 224320_5_1.wav  \n",
       "4  AI_1_MBC 라디오 사연 하이라이트 엠라대왕 49...  "
      ]
     },
     "execution_count": 39,
     "metadata": {},
     "output_type": "execute_result"
    }
   ],
   "source": [
    "import pandas as pd\n",
    "\n",
    "# Converting list into dataframe\n",
    "data = pd.DataFrame(data, columns = ['Features', 'Class', 'File Name'])\n",
    "data.head()"
   ]
  },
  {
   "cell_type": "code",
   "execution_count": 40,
   "id": "7ed6a68e-aab0-43cb-8a64-cd326af650e6",
   "metadata": {},
   "outputs": [
    {
     "data": {
      "text/html": [
       "<div>\n",
       "<style scoped>\n",
       "    .dataframe tbody tr th:only-of-type {\n",
       "        vertical-align: middle;\n",
       "    }\n",
       "\n",
       "    .dataframe tbody tr th {\n",
       "        vertical-align: top;\n",
       "    }\n",
       "\n",
       "    .dataframe thead th {\n",
       "        text-align: right;\n",
       "    }\n",
       "</style>\n",
       "<table border=\"1\" class=\"dataframe\">\n",
       "  <thead>\n",
       "    <tr style=\"text-align: right;\">\n",
       "      <th></th>\n",
       "      <th>Features</th>\n",
       "      <th>Class</th>\n",
       "      <th>File Name</th>\n",
       "    </tr>\n",
       "  </thead>\n",
       "  <tbody>\n",
       "    <tr>\n",
       "      <th>2211</th>\n",
       "      <td>[[-38.065804, -40.310173, -38.88968, -41.01819...</td>\n",
       "      <td>AI</td>\n",
       "      <td>AI_1_180도 변한 민희진…뜻밖 비밀 돌출...</td>\n",
       "    </tr>\n",
       "    <tr>\n",
       "      <th>438</th>\n",
       "      <td>[[-32.192085, -25.534187, -25.470627, -31.3178...</td>\n",
       "      <td>AI</td>\n",
       "      <td>AI_1_1심 무죄 이재명 사법부에 감사…도민 ᄉ...</td>\n",
       "    </tr>\n",
       "    <tr>\n",
       "      <th>188</th>\n",
       "      <td>[[-80.0, -80.0, -74.08569, -52.403076, -43.598...</td>\n",
       "      <td>AI</td>\n",
       "      <td>AI_1_2시간과 목숨을 바꾸시겠습니까_3_1.wav</td>\n",
       "    </tr>\n",
       "    <tr>\n",
       "      <th>96</th>\n",
       "      <td>[[-50.166687, -47.177063, -44.310516, -46.7752...</td>\n",
       "      <td>AI</td>\n",
       "      <td>AI_1_2차선에 차량 세운 이유 모르겠다…남펴...</td>\n",
       "    </tr>\n",
       "    <tr>\n",
       "      <th>1332</th>\n",
       "      <td>[[-80.0, -80.0, -72.869865, -51.30198, -41.305...</td>\n",
       "      <td>AI</td>\n",
       "      <td>AI_1_3등이 노력 없이 1등을 이기는 법_1_...</td>\n",
       "    </tr>\n",
       "    <tr>\n",
       "      <th>...</th>\n",
       "      <td>...</td>\n",
       "      <td>...</td>\n",
       "      <td>...</td>\n",
       "    </tr>\n",
       "    <tr>\n",
       "      <th>10015</th>\n",
       "      <td>[[-78.09742, -61.89204, -53.436478, -53.43213,...</td>\n",
       "      <td>Human</td>\n",
       "      <td>금감원_인간음성_94_5_1.wav</td>\n",
       "    </tr>\n",
       "    <tr>\n",
       "      <th>9091</th>\n",
       "      <td>[[-66.78873, -57.772045, -58.608673, -64.36488...</td>\n",
       "      <td>Human</td>\n",
       "      <td>금감원_인간음성_94_6_1.wav</td>\n",
       "    </tr>\n",
       "    <tr>\n",
       "      <th>10042</th>\n",
       "      <td>[[-51.282494, -55.339493, -55.991875, -54.2475...</td>\n",
       "      <td>Human</td>\n",
       "      <td>금감원_인간음성_94_7_1.wav</td>\n",
       "    </tr>\n",
       "    <tr>\n",
       "      <th>7884</th>\n",
       "      <td>[[-79.25636, -78.03104, -80.0, -80.0, -80.0, -...</td>\n",
       "      <td>Human</td>\n",
       "      <td>금감원_인간음성_94_8_1.wav</td>\n",
       "    </tr>\n",
       "    <tr>\n",
       "      <th>7212</th>\n",
       "      <td>[[-37.508095, -42.915333, -57.98645, -52.10347...</td>\n",
       "      <td>Human</td>\n",
       "      <td>금감원_인간음성_94_9_1.wav</td>\n",
       "    </tr>\n",
       "  </tbody>\n",
       "</table>\n",
       "<p>10229 rows × 3 columns</p>\n",
       "</div>"
      ],
      "text/plain": [
       "                                                Features  Class  \\\n",
       "2211   [[-38.065804, -40.310173, -38.88968, -41.01819...     AI   \n",
       "438    [[-32.192085, -25.534187, -25.470627, -31.3178...     AI   \n",
       "188    [[-80.0, -80.0, -74.08569, -52.403076, -43.598...     AI   \n",
       "96     [[-50.166687, -47.177063, -44.310516, -46.7752...     AI   \n",
       "1332   [[-80.0, -80.0, -72.869865, -51.30198, -41.305...     AI   \n",
       "...                                                  ...    ...   \n",
       "10015  [[-78.09742, -61.89204, -53.436478, -53.43213,...  Human   \n",
       "9091   [[-66.78873, -57.772045, -58.608673, -64.36488...  Human   \n",
       "10042  [[-51.282494, -55.339493, -55.991875, -54.2475...  Human   \n",
       "7884   [[-79.25636, -78.03104, -80.0, -80.0, -80.0, -...  Human   \n",
       "7212   [[-37.508095, -42.915333, -57.98645, -52.10347...  Human   \n",
       "\n",
       "                                               File Name  \n",
       "2211   AI_1_180도 변한 민희진…뜻밖 비밀 돌출...  \n",
       "438    AI_1_1심 무죄 이재명 사법부에 감사…도민 ᄉ...  \n",
       "188     AI_1_2시간과 목숨을 바꾸시겠습니까_3_1.wav  \n",
       "96     AI_1_2차선에 차량 세운 이유 모르겠다…남펴...  \n",
       "1332   AI_1_3등이 노력 없이 1등을 이기는 법_1_...  \n",
       "...                                                  ...  \n",
       "10015                                금감원_인간음성_94_5_1.wav  \n",
       "9091                                 금감원_인간음성_94_6_1.wav  \n",
       "10042                                금감원_인간음성_94_7_1.wav  \n",
       "7884                                 금감원_인간음성_94_8_1.wav  \n",
       "7212                                 금감원_인간음성_94_9_1.wav  \n",
       "\n",
       "[10229 rows x 3 columns]"
      ]
     },
     "execution_count": 40,
     "metadata": {},
     "output_type": "execute_result"
    }
   ],
   "source": [
    "data = data.sort_values(by=['File Name'], ascending=[True])\n",
    "data"
   ]
  },
  {
   "cell_type": "code",
   "execution_count": 41,
   "id": "411485cd-85e4-455b-a78b-94088975fecc",
   "metadata": {},
   "outputs": [
    {
     "name": "stderr",
     "output_type": "stream",
     "text": [
      "/var/folders/s4/y_mv_22949l2v878sknjf3g00000gn/T/ipykernel_983/3844386615.py:5: FutureWarning: \n",
      "\n",
      "Passing `palette` without assigning `hue` is deprecated and will be removed in v0.14.0. Assign the `y` variable to `hue` and set `legend=False` for the same effect.\n",
      "\n",
      "  ax = sns.countplot(y=data['Class'], palette='viridis')\n"
     ]
    },
    {
     "data": {
      "image/png": "[encoded data removed]",
      "text/plain": [
       "<Figure size 1000x600 with 1 Axes>"
      ]
     },
     "metadata": {},
     "output_type": "display_data"
    }
   ],
   "source": [
    "import matplotlib.pyplot as plt\n",
    "import seaborn as sns\n",
    "\n",
    "plt.figure(figsize=(10, 6))\n",
    "ax = sns.countplot(y=data['Class'], palette='viridis')\n",
    "\n",
    "total = len(data['Class'])\n",
    "for p in ax.patches:\n",
    "    percentage = '{:.1f}%'.format(100 * p.get_width() / total)\n",
    "    x = p.get_x() + p.get_width() + 0.02\n",
    "    y = p.get_y() + p.get_height() / 2\n",
    "    ax.annotate(percentage, (x, y))\n",
    "\n",
    "plt.title('Distribution of Classes', fontsize=16)\n",
    "plt.xlabel('Count', fontsize=14)\n",
    "plt.ylabel('Class', fontsize=14)\n",
    "plt.show()\n"
   ]
  },
  {
   "cell_type": "code",
   "execution_count": 42,
   "id": "c42e8e03-b042-4795-a3b8-aad9174760bf",
   "metadata": {},
   "outputs": [
    {
     "data": {
      "text/plain": [
       "(128, 455)"
      ]
     },
     "execution_count": 42,
     "metadata": {},
     "output_type": "execute_result"
    }
   ],
   "source": [
    "data['Features'][2].shape"
   ]
  },
  {
   "cell_type": "code",
   "execution_count": 43,
   "id": "cf34f8bd-4df2-4547-b28c-1a62126a66b1",
   "metadata": {},
   "outputs": [
    {
     "data": {
      "text/plain": [
       "2211     [[-38.065804, -40.310173, -38.88968, -41.01819...\n",
       "438      [[-32.192085, -25.534187, -25.470627, -31.3178...\n",
       "188      [[-80.0, -80.0, -74.08569, -52.403076, -43.598...\n",
       "96       [[-50.166687, -47.177063, -44.310516, -46.7752...\n",
       "1332     [[-80.0, -80.0, -72.869865, -51.30198, -41.305...\n",
       "                               ...                        \n",
       "10015    [[-78.09742, -61.89204, -53.436478, -53.43213,...\n",
       "9091     [[-66.78873, -57.772045, -58.608673, -64.36488...\n",
       "10042    [[-51.282494, -55.339493, -55.991875, -54.2475...\n",
       "7884     [[-79.25636, -78.03104, -80.0, -80.0, -80.0, -...\n",
       "7212     [[-37.508095, -42.915333, -57.98645, -52.10347...\n",
       "Name: Features, Length: 10229, dtype: object"
      ]
     },
     "execution_count": 43,
     "metadata": {},
     "output_type": "execute_result"
    }
   ],
   "source": [
    "from keras.preprocessing.sequence import pad_sequences\n",
    "\n",
    "# Padding or truncating the arrays to a fixed length\n",
    "x = data['Features']\n",
    "#x = pad_sequences(x, dtype = 'float32', padding = 'post', truncating = 'post')\n",
    "x"
   ]
  },
  {
   "cell_type": "code",
   "execution_count": 44,
   "id": "835fa287-d429-45d6-97f2-ababc4e6949c",
   "metadata": {},
   "outputs": [
    {
     "data": {
      "text/plain": [
       "(128, 559)"
      ]
     },
     "execution_count": 44,
     "metadata": {},
     "output_type": "execute_result"
    }
   ],
   "source": [
    "x[1].shape"
   ]
  },
  {
   "cell_type": "markdown",
   "id": "a3cfe22e-ceeb-4aa0-a8d7-0861f0cd698d",
   "metadata": {},
   "source": [
    "##### x값 Padding"
   ]
  },
  {
   "cell_type": "code",
   "execution_count": 45,
   "id": "2d3b8ddd-9ff1-4893-be04-8e5d833698f2",
   "metadata": {},
   "outputs": [
    {
     "data": {
      "text/plain": [
       "646"
      ]
     },
     "execution_count": 45,
     "metadata": {},
     "output_type": "execute_result"
    }
   ],
   "source": [
    "# MAX값으로 패딩하기\n",
    "import numpy as np\n",
    "\n",
    "# 데이터셋의 모든 샘플의 크기를 확인하여 가장 큰 샘플의 크기를 찾습니다.\n",
    "max_second_dimension = max(sample.shape[1] for sample in x)\n",
    "max_second_dimension"
   ]
  },
  {
   "cell_type": "code",
   "execution_count": 14,
   "id": "ee7941af-45bb-44bf-a47f-0ca62c5ce657",
   "metadata": {},
   "outputs": [
    {
     "name": "stdout",
     "output_type": "stream",
     "text": [
      "Padded dataset shape: (6883, 128, 646)\n"
     ]
    }
   ],
   "source": [
    "# 각 샘플을 패딩하여 두 번째 차원의 크기를 맞춥니다.\n",
    "padded_x = []\n",
    "for sample in x:\n",
    "    pad_width = max_second_dimension - sample.shape[1]\n",
    "    padded_sample = np.pad(sample, ((0, 0), (0, pad_width)), mode='constant', constant_values=0)\n",
    "    padded_x.append(padded_sample)\n",
    "\n",
    "# 패딩된 데이터셋을 넘파이 배열로 변환합니다.\n",
    "padded_x = np.array(padded_x)\n",
    "\n",
    "# 패딩된 데이터셋의 형태를 확인합니다.\n",
    "print(\"Padded dataset shape:\", padded_x.shape)"
   ]
  },
  {
   "cell_type": "code",
   "execution_count": null,
   "id": "d214472c-eb7e-4d3c-9b64-767721b45b94",
   "metadata": {},
   "outputs": [],
   "source": []
  },
  {
   "cell_type": "code",
   "execution_count": 46,
   "id": "83ef1257-33bc-4a1d-9d02-fc558343d264",
   "metadata": {},
   "outputs": [
    {
     "name": "stdout",
     "output_type": "stream",
     "text": [
      "Mean second dimension size: 607\n"
     ]
    }
   ],
   "source": [
    "# 평균값으로 패딩하기\n",
    "import numpy as np\n",
    "\n",
    "# 데이터셋의 모든 샘플의 크기를 확인하여 두 번째 차원의 평균 크기를 계산합니다.\n",
    "mean_second_dimension = int(np.mean([sample.shape[1] for sample in x]))\n",
    "print(\"Mean second dimension size:\", mean_second_dimension)"
   ]
  },
  {
   "cell_type": "code",
   "execution_count": null,
   "id": "05298001-65a4-4cc7-8d7a-681719ce8b29",
   "metadata": {},
   "outputs": [],
   "source": [
    "# 각 샘플을 패딩 또는 자르기하여 두 번째 차원의 크기를 평균 크기로 맞춥니다.\n",
    "padded_x = []\n",
    "for sample in x:\n",
    "    if sample.shape[1] < mean_second_dimension:\n",
    "        # 패딩\n",
    "        pad_width = mean_second_dimension - sample.shape[1]\n",
    "        padded_sample = np.pad(sample, ((0, 0), (0, pad_width)), mode='constant', constant_values=0)\n",
    "    else:\n",
    "        # 자르기\n",
    "        padded_sample = sample[:, :mean_second_dimension]\n",
    "    padded_x.append(padded_sample)\n",
    "\n",
    "# 패딩된 데이터셋을 넘파이 배열로 변환합니다.\n",
    "padded_x = np.array(padded_x)\n",
    "\n",
    "# 패딩된 데이터셋의 형태를 확인합니다.\n",
    "print(\"Padded dataset shape:\", padded_x.shape)"
   ]
  },
  {
   "cell_type": "code",
   "execution_count": null,
   "id": "1a01a804-dd9b-4ffd-962c-c04d12f5b093",
   "metadata": {},
   "outputs": [],
   "source": []
  },
  {
   "cell_type": "code",
   "execution_count": 47,
   "id": "74919262-1c06-4d2b-9f11-8de2403a30e8",
   "metadata": {},
   "outputs": [
    {
     "name": "stdout",
     "output_type": "stream",
     "text": [
      "Mode second dimension size: 646\n"
     ]
    }
   ],
   "source": [
    "# 최빈값으로 패딩하기\n",
    "import statistics\n",
    "\n",
    "# 데이터셋의 모든 샘플의 크기를 확인하여 두 번째 차원의 평균 크기를 계산합니다.\n",
    "mode_second_dimension = int(statistics.mode([sample.shape[1] for sample in x]))\n",
    "print(\"Mode second dimension size:\", mode_second_dimension)"
   ]
  },
  {
   "cell_type": "code",
   "execution_count": 48,
   "id": "95f0aaf3-4163-4705-8d41-2dc8ad330523",
   "metadata": {},
   "outputs": [
    {
     "name": "stdout",
     "output_type": "stream",
     "text": [
      "Padded dataset shape: (10229, 128, 646)\n"
     ]
    }
   ],
   "source": [
    "# 각 샘플을 패딩 또는 자르기하여 두 번째 차원의 크기를 평균 크기로 맞춥니다.\n",
    "padded_x = []\n",
    "for sample in x:\n",
    "    if sample.shape[1] < mode_second_dimension:\n",
    "        # 패딩\n",
    "        pad_width = mode_second_dimension - sample.shape[1]\n",
    "        padded_sample = np.pad(sample, ((0, 0), (0, pad_width)), mode='constant', constant_values=0)\n",
    "    else:\n",
    "        # 자르기\n",
    "        padded_sample = sample[:, :mode_second_dimension]\n",
    "    padded_x.append(padded_sample)\n",
    "\n",
    "# 패딩된 데이터셋을 넘파이 배열로 변환합니다.\n",
    "padded_x = np.array(padded_x)\n",
    "\n",
    "# 패딩된 데이터셋의 형태를 확인합니다.\n",
    "print(\"Padded dataset shape:\", padded_x.shape)"
   ]
  },
  {
   "cell_type": "markdown",
   "id": "80a5f20c-2caa-4715-aad2-fc6a8749c711",
   "metadata": {},
   "source": [
    "##### Train/Test split"
   ]
  },
  {
   "cell_type": "code",
   "execution_count": 49,
   "id": "8f4628d7-e675-4a5f-a9d7-1c83edf72e8c",
   "metadata": {},
   "outputs": [],
   "source": [
    "from sklearn.model_selection import train_test_split\n",
    "from sklearn.preprocessing import LabelEncoder\n",
    "from keras.utils import to_categorical\n",
    "\n",
    "# Encoding class labels\n",
    "encoder = LabelEncoder()\n",
    "y = encoder.fit_transform(data['Class'])\n",
    "y = to_categorical(y)"
   ]
  },
  {
   "cell_type": "code",
   "execution_count": 50,
   "id": "ae4331cb-57ad-4382-a4f0-bd052990a194",
   "metadata": {},
   "outputs": [],
   "source": [
    "# Train-validation split\n",
    "trainX, testX, trainY, testY = train_test_split(padded_x, y, random_state = 99)"
   ]
  },
  {
   "cell_type": "code",
   "execution_count": 51,
   "id": "936b4380-9d9d-40e4-ad9b-d99b9d633c3c",
   "metadata": {
    "scrolled": true
   },
   "outputs": [
    {
     "data": {
      "text/plain": [
       "(7671, 128, 646)"
      ]
     },
     "execution_count": 51,
     "metadata": {},
     "output_type": "execute_result"
    }
   ],
   "source": [
    "trainX.shape"
   ]
  },
  {
   "cell_type": "code",
   "execution_count": 86,
   "id": "4aca2c6c-6e17-4ffc-b93a-9949055c430b",
   "metadata": {},
   "outputs": [
    {
     "data": {
      "text/plain": [
       "(128, 646)"
      ]
     },
     "execution_count": 86,
     "metadata": {},
     "output_type": "execute_result"
    }
   ],
   "source": [
    "trainX[1].shape"
   ]
  },
  {
   "cell_type": "markdown",
   "id": "6139f561-8b40-4558-9e44-82eae1c573c0",
   "metadata": {},
   "source": [
    "#### CNN 모델 선언"
   ]
  },
  {
   "cell_type": "code",
   "execution_count": 52,
   "id": "6760f426-9289-4759-a75c-36aaa94e7338",
   "metadata": {
    "scrolled": true
   },
   "outputs": [
    {
     "name": "stderr",
     "output_type": "stream",
     "text": [
      "/opt/anaconda3/envs/iot_deepfake/lib/python3.10/site-packages/keras/src/layers/convolutional/base_conv.py:107: UserWarning: Do not pass an `input_shape`/`input_dim` argument to a layer. When using Sequential models, prefer using an `Input(shape)` object as the first layer in the model instead.\n",
      "  super().__init__(activity_regularizer=activity_regularizer, **kwargs)\n"
     ]
    },
    {
     "data": {
      "text/html": [
       "<pre style=\"white-space:pre;overflow-x:auto;line-height:normal;font-family:Menlo,'DejaVu Sans Mono',consolas,'Courier New',monospace\"><span style=\"font-weight: bold\">Model: \"sequential_1\"</span>\n",
       "</pre>\n"
      ],
      "text/plain": [
       "\u001b[1mModel: \"sequential_1\"\u001b[0m\n"
      ]
     },
     "metadata": {},
     "output_type": "display_data"
    },
    {
     "data": {
      "text/html": [
       "<pre style=\"white-space:pre;overflow-x:auto;line-height:normal;font-family:Menlo,'DejaVu Sans Mono',consolas,'Courier New',monospace\">┏━━━━━━━━━━━━━━━━━━━━━━━━━━━━━━━━━┳━━━━━━━━━━━━━━━━━━━━━━━━┳━━━━━━━━━━━━━━━┓\n",
       "┃<span style=\"font-weight: bold\"> Layer (type)                    </span>┃<span style=\"font-weight: bold\"> Output Shape           </span>┃<span style=\"font-weight: bold\">       Param # </span>┃\n",
       "┡━━━━━━━━━━━━━━━━━━━━━━━━━━━━━━━━━╇━━━━━━━━━━━━━━━━━━━━━━━━╇━━━━━━━━━━━━━━━┩\n",
       "│ conv2d_1 (<span style=\"color: #0087ff; text-decoration-color: #0087ff\">Conv2D</span>)               │ (<span style=\"color: #00d7ff; text-decoration-color: #00d7ff\">None</span>, <span style=\"color: #00af00; text-decoration-color: #00af00\">128</span>, <span style=\"color: #00af00; text-decoration-color: #00af00\">646</span>, <span style=\"color: #00af00; text-decoration-color: #00af00\">32</span>)   │           <span style=\"color: #00af00; text-decoration-color: #00af00\">320</span> │\n",
       "├─────────────────────────────────┼────────────────────────┼───────────────┤\n",
       "│ max_pooling2d_1 (<span style=\"color: #0087ff; text-decoration-color: #0087ff\">MaxPooling2D</span>)  │ (<span style=\"color: #00d7ff; text-decoration-color: #00d7ff\">None</span>, <span style=\"color: #00af00; text-decoration-color: #00af00\">64</span>, <span style=\"color: #00af00; text-decoration-color: #00af00\">323</span>, <span style=\"color: #00af00; text-decoration-color: #00af00\">32</span>)    │             <span style=\"color: #00af00; text-decoration-color: #00af00\">0</span> │\n",
       "├─────────────────────────────────┼────────────────────────┼───────────────┤\n",
       "│ batch_normalization_2           │ (<span style=\"color: #00d7ff; text-decoration-color: #00d7ff\">None</span>, <span style=\"color: #00af00; text-decoration-color: #00af00\">64</span>, <span style=\"color: #00af00; text-decoration-color: #00af00\">323</span>, <span style=\"color: #00af00; text-decoration-color: #00af00\">32</span>)    │           <span style=\"color: #00af00; text-decoration-color: #00af00\">128</span> │\n",
       "│ (<span style=\"color: #0087ff; text-decoration-color: #0087ff\">BatchNormalization</span>)            │                        │               │\n",
       "├─────────────────────────────────┼────────────────────────┼───────────────┤\n",
       "│ dropout_2 (<span style=\"color: #0087ff; text-decoration-color: #0087ff\">Dropout</span>)             │ (<span style=\"color: #00d7ff; text-decoration-color: #00d7ff\">None</span>, <span style=\"color: #00af00; text-decoration-color: #00af00\">64</span>, <span style=\"color: #00af00; text-decoration-color: #00af00\">323</span>, <span style=\"color: #00af00; text-decoration-color: #00af00\">32</span>)    │             <span style=\"color: #00af00; text-decoration-color: #00af00\">0</span> │\n",
       "├─────────────────────────────────┼────────────────────────┼───────────────┤\n",
       "│ flatten_1 (<span style=\"color: #0087ff; text-decoration-color: #0087ff\">Flatten</span>)             │ (<span style=\"color: #00d7ff; text-decoration-color: #00d7ff\">None</span>, <span style=\"color: #00af00; text-decoration-color: #00af00\">661504</span>)         │             <span style=\"color: #00af00; text-decoration-color: #00af00\">0</span> │\n",
       "├─────────────────────────────────┼────────────────────────┼───────────────┤\n",
       "│ dense_2 (<span style=\"color: #0087ff; text-decoration-color: #0087ff\">Dense</span>)                 │ (<span style=\"color: #00d7ff; text-decoration-color: #00d7ff\">None</span>, <span style=\"color: #00af00; text-decoration-color: #00af00\">64</span>)             │    <span style=\"color: #00af00; text-decoration-color: #00af00\">42,336,320</span> │\n",
       "├─────────────────────────────────┼────────────────────────┼───────────────┤\n",
       "│ batch_normalization_3           │ (<span style=\"color: #00d7ff; text-decoration-color: #00d7ff\">None</span>, <span style=\"color: #00af00; text-decoration-color: #00af00\">64</span>)             │           <span style=\"color: #00af00; text-decoration-color: #00af00\">256</span> │\n",
       "│ (<span style=\"color: #0087ff; text-decoration-color: #0087ff\">BatchNormalization</span>)            │                        │               │\n",
       "├─────────────────────────────────┼────────────────────────┼───────────────┤\n",
       "│ dropout_3 (<span style=\"color: #0087ff; text-decoration-color: #0087ff\">Dropout</span>)             │ (<span style=\"color: #00d7ff; text-decoration-color: #00d7ff\">None</span>, <span style=\"color: #00af00; text-decoration-color: #00af00\">64</span>)             │             <span style=\"color: #00af00; text-decoration-color: #00af00\">0</span> │\n",
       "├─────────────────────────────────┼────────────────────────┼───────────────┤\n",
       "│ dense_3 (<span style=\"color: #0087ff; text-decoration-color: #0087ff\">Dense</span>)                 │ (<span style=\"color: #00d7ff; text-decoration-color: #00d7ff\">None</span>, <span style=\"color: #00af00; text-decoration-color: #00af00\">2</span>)              │           <span style=\"color: #00af00; text-decoration-color: #00af00\">130</span> │\n",
       "└─────────────────────────────────┴────────────────────────┴───────────────┘\n",
       "</pre>\n"
      ],
      "text/plain": [
       "┏━━━━━━━━━━━━━━━━━━━━━━━━━━━━━━━━━┳━━━━━━━━━━━━━━━━━━━━━━━━┳━━━━━━━━━━━━━━━┓\n",
       "┃\u001b[1m \u001b[0m\u001b[1mLayer (type)                   \u001b[0m\u001b[1m \u001b[0m┃\u001b[1m \u001b[0m\u001b[1mOutput Shape          \u001b[0m\u001b[1m \u001b[0m┃\u001b[1m \u001b[0m\u001b[1m      Param #\u001b[0m\u001b[1m \u001b[0m┃\n",
       "┡━━━━━━━━━━━━━━━━━━━━━━━━━━━━━━━━━╇━━━━━━━━━━━━━━━━━━━━━━━━╇━━━━━━━━━━━━━━━┩\n",
       "│ conv2d_1 (\u001b[38;5;33mConv2D\u001b[0m)               │ (\u001b[38;5;45mNone\u001b[0m, \u001b[38;5;34m128\u001b[0m, \u001b[38;5;34m646\u001b[0m, \u001b[38;5;34m32\u001b[0m)   │           \u001b[38;5;34m320\u001b[0m │\n",
       "├─────────────────────────────────┼────────────────────────┼───────────────┤\n",
       "│ max_pooling2d_1 (\u001b[38;5;33mMaxPooling2D\u001b[0m)  │ (\u001b[38;5;45mNone\u001b[0m, \u001b[38;5;34m64\u001b[0m, \u001b[38;5;34m323\u001b[0m, \u001b[38;5;34m32\u001b[0m)    │             \u001b[38;5;34m0\u001b[0m │\n",
       "├─────────────────────────────────┼────────────────────────┼───────────────┤\n",
       "│ batch_normalization_2           │ (\u001b[38;5;45mNone\u001b[0m, \u001b[38;5;34m64\u001b[0m, \u001b[38;5;34m323\u001b[0m, \u001b[38;5;34m32\u001b[0m)    │           \u001b[38;5;34m128\u001b[0m │\n",
       "│ (\u001b[38;5;33mBatchNormalization\u001b[0m)            │                        │               │\n",
       "├─────────────────────────────────┼────────────────────────┼───────────────┤\n",
       "│ dropout_2 (\u001b[38;5;33mDropout\u001b[0m)             │ (\u001b[38;5;45mNone\u001b[0m, \u001b[38;5;34m64\u001b[0m, \u001b[38;5;34m323\u001b[0m, \u001b[38;5;34m32\u001b[0m)    │             \u001b[38;5;34m0\u001b[0m │\n",
       "├─────────────────────────────────┼────────────────────────┼───────────────┤\n",
       "│ flatten_1 (\u001b[38;5;33mFlatten\u001b[0m)             │ (\u001b[38;5;45mNone\u001b[0m, \u001b[38;5;34m661504\u001b[0m)         │             \u001b[38;5;34m0\u001b[0m │\n",
       "├─────────────────────────────────┼────────────────────────┼───────────────┤\n",
       "│ dense_2 (\u001b[38;5;33mDense\u001b[0m)                 │ (\u001b[38;5;45mNone\u001b[0m, \u001b[38;5;34m64\u001b[0m)             │    \u001b[38;5;34m42,336,320\u001b[0m │\n",
       "├─────────────────────────────────┼────────────────────────┼───────────────┤\n",
       "│ batch_normalization_3           │ (\u001b[38;5;45mNone\u001b[0m, \u001b[38;5;34m64\u001b[0m)             │           \u001b[38;5;34m256\u001b[0m │\n",
       "│ (\u001b[38;5;33mBatchNormalization\u001b[0m)            │                        │               │\n",
       "├─────────────────────────────────┼────────────────────────┼───────────────┤\n",
       "│ dropout_3 (\u001b[38;5;33mDropout\u001b[0m)             │ (\u001b[38;5;45mNone\u001b[0m, \u001b[38;5;34m64\u001b[0m)             │             \u001b[38;5;34m0\u001b[0m │\n",
       "├─────────────────────────────────┼────────────────────────┼───────────────┤\n",
       "│ dense_3 (\u001b[38;5;33mDense\u001b[0m)                 │ (\u001b[38;5;45mNone\u001b[0m, \u001b[38;5;34m2\u001b[0m)              │           \u001b[38;5;34m130\u001b[0m │\n",
       "└─────────────────────────────────┴────────────────────────┴───────────────┘\n"
      ]
     },
     "metadata": {},
     "output_type": "display_data"
    },
    {
     "data": {
      "text/html": [
       "<pre style=\"white-space:pre;overflow-x:auto;line-height:normal;font-family:Menlo,'DejaVu Sans Mono',consolas,'Courier New',monospace\"><span style=\"font-weight: bold\"> Total params: </span><span style=\"color: #00af00; text-decoration-color: #00af00\">42,337,154</span> (161.50 MB)\n",
       "</pre>\n"
      ],
      "text/plain": [
       "\u001b[1m Total params: \u001b[0m\u001b[38;5;34m42,337,154\u001b[0m (161.50 MB)\n"
      ]
     },
     "metadata": {},
     "output_type": "display_data"
    },
    {
     "data": {
      "text/html": [
       "<pre style=\"white-space:pre;overflow-x:auto;line-height:normal;font-family:Menlo,'DejaVu Sans Mono',consolas,'Courier New',monospace\"><span style=\"font-weight: bold\"> Trainable params: </span><span style=\"color: #00af00; text-decoration-color: #00af00\">42,336,962</span> (161.50 MB)\n",
       "</pre>\n"
      ],
      "text/plain": [
       "\u001b[1m Trainable params: \u001b[0m\u001b[38;5;34m42,336,962\u001b[0m (161.50 MB)\n"
      ]
     },
     "metadata": {},
     "output_type": "display_data"
    },
    {
     "data": {
      "text/html": [
       "<pre style=\"white-space:pre;overflow-x:auto;line-height:normal;font-family:Menlo,'DejaVu Sans Mono',consolas,'Courier New',monospace\"><span style=\"font-weight: bold\"> Non-trainable params: </span><span style=\"color: #00af00; text-decoration-color: #00af00\">192</span> (768.00 B)\n",
       "</pre>\n"
      ],
      "text/plain": [
       "\u001b[1m Non-trainable params: \u001b[0m\u001b[38;5;34m192\u001b[0m (768.00 B)\n"
      ]
     },
     "metadata": {},
     "output_type": "display_data"
    }
   ],
   "source": [
    "from keras import layers, Sequential\n",
    "from keras.callbacks import EarlyStopping\n",
    "from tensorflow.keras.optimizers import Adam\n",
    "'''\n",
    "model = Sequential([\n",
    "    layers.Conv2D(32, kernel_size = (3, 3), activation = 'relu', padding = 'same', input_shape = (128, 646, 1)),\n",
    "    layers.MaxPooling2D(),\n",
    "    layers.BatchNormalization(),\n",
    "    layers.Dropout(0.2),\n",
    "    \n",
    "    layers.Conv2D(64, kernel_size = (3, 3), padding = 'same', activation = 'relu'),\n",
    "    layers.MaxPooling2D(),\n",
    "    layers.BatchNormalization(),\n",
    "    layers.Dropout(0.2),\n",
    "    \n",
    "    layers.Flatten(),\n",
    "    \n",
    "    layers.Dense(64, activation = 'relu'),\n",
    "    layers.BatchNormalization(),\n",
    "    layers.Dropout(0.2),\n",
    "    \n",
    "    layers.Dense(2, activation = 'softmax')\n",
    "])'''\n",
    "'''\n",
    "model = Sequential([\n",
    "    layers.Conv2D(32, kernel_size=(3, 3), activation='relu', padding='same', input_shape=(128, 646, 1)),\n",
    "    layers.MaxPooling2D(),\n",
    "    layers.BatchNormalization(),\n",
    "    layers.Dropout(0.2),\n",
    "\n",
    "    layers.Conv2D(64, kernel_size=(3, 3), activation='relu', padding='same'),\n",
    "    layers.MaxPooling2D(),\n",
    "    layers.BatchNormalization(),\n",
    "    \n",
    "    layers.Flatten(),\n",
    "    \n",
    "    layers.Dense(32, activation='relu'),  # 축소된 Dense layer\n",
    "    layers.BatchNormalization(),\n",
    "    layers.Dropout(0.2),\n",
    "    \n",
    "    layers.Dense(2, activation='softmax')\n",
    "])\n",
    "'''\n",
    "\n",
    "model = Sequential([\n",
    "    layers.Conv2D(32, kernel_size = (3, 3), activation = 'relu', padding = 'same', input_shape = (128, 646, 1)),\n",
    "    layers.MaxPooling2D(),\n",
    "    layers.BatchNormalization(),\n",
    "    layers.Dropout(0.2),\n",
    "    \n",
    "    layers.Flatten(),\n",
    "    \n",
    "    layers.Dense(64, activation = 'relu'),\n",
    "    layers.BatchNormalization(),\n",
    "    layers.Dropout(0.2),\n",
    "    \n",
    "    layers.Dense(2, activation = 'softmax')\n",
    "])\n",
    "\n",
    "# 옵티마이저를 정의하고 learning rate를 설정합니다.\n",
    "optimizer = Adam(learning_rate=0.0001)\n",
    "\n",
    "model.compile(optimizer = optimizer, loss = 'categorical_crossentropy', metrics = ['accuracy'])\n",
    "\n",
    "#model.compile(optimizer = 'Adam', loss = 'categorical_crossentropy', metrics = ['accuracy'])\n",
    "\n",
    "# Displaying model architecture\n",
    "model.summary()"
   ]
  },
  {
   "cell_type": "code",
   "execution_count": 54,
   "id": "7ca63c0d-f8e6-47bd-b51b-14103e0e0925",
   "metadata": {
    "scrolled": true
   },
   "outputs": [
    {
     "name": "stdout",
     "output_type": "stream",
     "text": [
      "Epoch 1/50\n",
      "\u001b[1m959/959\u001b[0m \u001b[32m━━━━━━━━━━━━━━━━━━━━\u001b[0m\u001b[37m\u001b[0m \u001b[1m53s\u001b[0m 53ms/step - accuracy: 0.6780 - loss: 0.6595 - val_accuracy: 0.8088 - val_loss: 0.4832\n",
      "Epoch 2/50\n",
      "\u001b[1m959/959\u001b[0m \u001b[32m━━━━━━━━━━━━━━━━━━━━\u001b[0m\u001b[37m\u001b[0m \u001b[1m49s\u001b[0m 51ms/step - accuracy: 0.8650 - loss: 0.3131 - val_accuracy: 0.9281 - val_loss: 0.2016\n",
      "Epoch 3/50\n",
      "\u001b[1m959/959\u001b[0m \u001b[32m━━━━━━━━━━━━━━━━━━━━\u001b[0m\u001b[37m\u001b[0m \u001b[1m50s\u001b[0m 52ms/step - accuracy: 0.9279 - loss: 0.1977 - val_accuracy: 0.9265 - val_loss: 0.1725\n",
      "Epoch 4/50\n",
      "\u001b[1m959/959\u001b[0m \u001b[32m━━━━━━━━━━━━━━━━━━━━\u001b[0m\u001b[37m\u001b[0m \u001b[1m50s\u001b[0m 52ms/step - accuracy: 0.9415 - loss: 0.1617 - val_accuracy: 0.9500 - val_loss: 0.2323\n",
      "Epoch 5/50\n",
      "\u001b[1m959/959\u001b[0m \u001b[32m━━━━━━━━━━━━━━━━━━━━\u001b[0m\u001b[37m\u001b[0m \u001b[1m50s\u001b[0m 52ms/step - accuracy: 0.9556 - loss: 0.1288 - val_accuracy: 0.8905 - val_loss: 0.2921\n",
      "Epoch 6/50\n",
      "\u001b[1m959/959\u001b[0m \u001b[32m━━━━━━━━━━━━━━━━━━━━\u001b[0m\u001b[37m\u001b[0m \u001b[1m53s\u001b[0m 56ms/step - accuracy: 0.9627 - loss: 0.1116 - val_accuracy: 0.9609 - val_loss: 0.1194\n",
      "Epoch 7/50\n",
      "\u001b[1m959/959\u001b[0m \u001b[32m━━━━━━━━━━━━━━━━━━━━\u001b[0m\u001b[37m\u001b[0m \u001b[1m54s\u001b[0m 56ms/step - accuracy: 0.9673 - loss: 0.0943 - val_accuracy: 0.9550 - val_loss: 0.1460\n",
      "Epoch 8/50\n",
      "\u001b[1m959/959\u001b[0m \u001b[32m━━━━━━━━━━━━━━━━━━━━\u001b[0m\u001b[37m\u001b[0m \u001b[1m57s\u001b[0m 59ms/step - accuracy: 0.9705 - loss: 0.0893 - val_accuracy: 0.9609 - val_loss: 0.0913\n",
      "Epoch 9/50\n",
      "\u001b[1m959/959\u001b[0m \u001b[32m━━━━━━━━━━━━━━━━━━━━\u001b[0m\u001b[37m\u001b[0m \u001b[1m52s\u001b[0m 54ms/step - accuracy: 0.9724 - loss: 0.0769 - val_accuracy: 0.9605 - val_loss: 0.1764\n",
      "Epoch 10/50\n",
      "\u001b[1m959/959\u001b[0m \u001b[32m━━━━━━━━━━━━━━━━━━━━\u001b[0m\u001b[37m\u001b[0m \u001b[1m51s\u001b[0m 53ms/step - accuracy: 0.9752 - loss: 0.0693 - val_accuracy: 0.9687 - val_loss: 0.1024\n",
      "Epoch 11/50\n",
      "\u001b[1m959/959\u001b[0m \u001b[32m━━━━━━━━━━━━━━━━━━━━\u001b[0m\u001b[37m\u001b[0m \u001b[1m50s\u001b[0m 52ms/step - accuracy: 0.9775 - loss: 0.0680 - val_accuracy: 0.9730 - val_loss: 0.0695\n",
      "Epoch 12/50\n",
      "\u001b[1m959/959\u001b[0m \u001b[32m━━━━━━━━━━━━━━━━━━━━\u001b[0m\u001b[37m\u001b[0m \u001b[1m50s\u001b[0m 52ms/step - accuracy: 0.9781 - loss: 0.0659 - val_accuracy: 0.9593 - val_loss: 0.1346\n",
      "Epoch 13/50\n",
      "\u001b[1m959/959\u001b[0m \u001b[32m━━━━━━━━━━━━━━━━━━━━\u001b[0m\u001b[37m\u001b[0m \u001b[1m49s\u001b[0m 51ms/step - accuracy: 0.9786 - loss: 0.0620 - val_accuracy: 0.9765 - val_loss: 0.0797\n",
      "Epoch 14/50\n",
      "\u001b[1m959/959\u001b[0m \u001b[32m━━━━━━━━━━━━━━━━━━━━\u001b[0m\u001b[37m\u001b[0m \u001b[1m49s\u001b[0m 51ms/step - accuracy: 0.9855 - loss: 0.0430 - val_accuracy: 0.9531 - val_loss: 0.1465\n",
      "Epoch 15/50\n",
      "\u001b[1m959/959\u001b[0m \u001b[32m━━━━━━━━━━━━━━━━━━━━\u001b[0m\u001b[37m\u001b[0m \u001b[1m49s\u001b[0m 51ms/step - accuracy: 0.9888 - loss: 0.0390 - val_accuracy: 0.9621 - val_loss: 0.1692\n",
      "Epoch 16/50\n",
      "\u001b[1m959/959\u001b[0m \u001b[32m━━━━━━━━━━━━━━━━━━━━\u001b[0m\u001b[37m\u001b[0m \u001b[1m49s\u001b[0m 51ms/step - accuracy: 0.9860 - loss: 0.0436 - val_accuracy: 0.9726 - val_loss: 0.2610\n",
      "Epoch 17/50\n",
      "\u001b[1m959/959\u001b[0m \u001b[32m━━━━━━━━━━━━━━━━━━━━\u001b[0m\u001b[37m\u001b[0m \u001b[1m49s\u001b[0m 51ms/step - accuracy: 0.9866 - loss: 0.0452 - val_accuracy: 0.9527 - val_loss: 0.1232\n",
      "Epoch 18/50\n",
      "\u001b[1m959/959\u001b[0m \u001b[32m━━━━━━━━━━━━━━━━━━━━\u001b[0m\u001b[37m\u001b[0m \u001b[1m49s\u001b[0m 51ms/step - accuracy: 0.9844 - loss: 0.0486 - val_accuracy: 0.9781 - val_loss: 0.0654\n",
      "Epoch 19/50\n",
      "\u001b[1m959/959\u001b[0m \u001b[32m━━━━━━━━━━━━━━━━━━━━\u001b[0m\u001b[37m\u001b[0m \u001b[1m49s\u001b[0m 52ms/step - accuracy: 0.9857 - loss: 0.0455 - val_accuracy: 0.9777 - val_loss: 0.0633\n",
      "Epoch 20/50\n",
      "\u001b[1m959/959\u001b[0m \u001b[32m━━━━━━━━━━━━━━━━━━━━\u001b[0m\u001b[37m\u001b[0m \u001b[1m50s\u001b[0m 52ms/step - accuracy: 0.9857 - loss: 0.0476 - val_accuracy: 0.9511 - val_loss: 0.1722\n",
      "Epoch 21/50\n",
      "\u001b[1m959/959\u001b[0m \u001b[32m━━━━━━━━━━━━━━━━━━━━\u001b[0m\u001b[37m\u001b[0m \u001b[1m50s\u001b[0m 52ms/step - accuracy: 0.9849 - loss: 0.0507 - val_accuracy: 0.9664 - val_loss: 0.0881\n",
      "Epoch 22/50\n",
      "\u001b[1m959/959\u001b[0m \u001b[32m━━━━━━━━━━━━━━━━━━━━\u001b[0m\u001b[37m\u001b[0m \u001b[1m50s\u001b[0m 52ms/step - accuracy: 0.9860 - loss: 0.0392 - val_accuracy: 0.9762 - val_loss: 0.0571\n",
      "Epoch 23/50\n",
      "\u001b[1m959/959\u001b[0m \u001b[32m━━━━━━━━━━━━━━━━━━━━\u001b[0m\u001b[37m\u001b[0m \u001b[1m50s\u001b[0m 52ms/step - accuracy: 0.9865 - loss: 0.0351 - val_accuracy: 0.9758 - val_loss: 0.0673\n",
      "Epoch 24/50\n",
      "\u001b[1m959/959\u001b[0m \u001b[32m━━━━━━━━━━━━━━━━━━━━\u001b[0m\u001b[37m\u001b[0m \u001b[1m50s\u001b[0m 52ms/step - accuracy: 0.9893 - loss: 0.0358 - val_accuracy: 0.9734 - val_loss: 0.0767\n",
      "Epoch 25/50\n",
      "\u001b[1m959/959\u001b[0m \u001b[32m━━━━━━━━━━━━━━━━━━━━\u001b[0m\u001b[37m\u001b[0m \u001b[1m50s\u001b[0m 52ms/step - accuracy: 0.9906 - loss: 0.0306 - val_accuracy: 0.9633 - val_loss: 0.0922\n",
      "Epoch 26/50\n",
      "\u001b[1m959/959\u001b[0m \u001b[32m━━━━━━━━━━━━━━━━━━━━\u001b[0m\u001b[37m\u001b[0m \u001b[1m50s\u001b[0m 52ms/step - accuracy: 0.9851 - loss: 0.0405 - val_accuracy: 0.9574 - val_loss: 0.1259\n",
      "Epoch 27/50\n",
      "\u001b[1m959/959\u001b[0m \u001b[32m━━━━━━━━━━━━━━━━━━━━\u001b[0m\u001b[37m\u001b[0m \u001b[1m50s\u001b[0m 52ms/step - accuracy: 0.9841 - loss: 0.0435 - val_accuracy: 0.9793 - val_loss: 0.0556\n",
      "Epoch 28/50\n",
      "\u001b[1m959/959\u001b[0m \u001b[32m━━━━━━━━━━━━━━━━━━━━\u001b[0m\u001b[37m\u001b[0m \u001b[1m50s\u001b[0m 52ms/step - accuracy: 0.9912 - loss: 0.0267 - val_accuracy: 0.9793 - val_loss: 0.0565\n",
      "Epoch 29/50\n",
      "\u001b[1m959/959\u001b[0m \u001b[32m━━━━━━━━━━━━━━━━━━━━\u001b[0m\u001b[37m\u001b[0m \u001b[1m50s\u001b[0m 52ms/step - accuracy: 0.9880 - loss: 0.0317 - val_accuracy: 0.9769 - val_loss: 0.0532\n",
      "Epoch 30/50\n",
      "\u001b[1m959/959\u001b[0m \u001b[32m━━━━━━━━━━━━━━━━━━━━\u001b[0m\u001b[37m\u001b[0m \u001b[1m50s\u001b[0m 52ms/step - accuracy: 0.9927 - loss: 0.0228 - val_accuracy: 0.9590 - val_loss: 0.1259\n",
      "Epoch 31/50\n",
      "\u001b[1m959/959\u001b[0m \u001b[32m━━━━━━━━━━━━━━━━━━━━\u001b[0m\u001b[37m\u001b[0m \u001b[1m50s\u001b[0m 52ms/step - accuracy: 0.9899 - loss: 0.0311 - val_accuracy: 0.9769 - val_loss: 0.0643\n",
      "Epoch 32/50\n",
      "\u001b[1m959/959\u001b[0m \u001b[32m━━━━━━━━━━━━━━━━━━━━\u001b[0m\u001b[37m\u001b[0m \u001b[1m50s\u001b[0m 53ms/step - accuracy: 0.9862 - loss: 0.0349 - val_accuracy: 0.9726 - val_loss: 0.0665\n",
      "Epoch 33/50\n",
      "\u001b[1m959/959\u001b[0m \u001b[32m━━━━━━━━━━━━━━━━━━━━\u001b[0m\u001b[37m\u001b[0m \u001b[1m50s\u001b[0m 53ms/step - accuracy: 0.9877 - loss: 0.0351 - val_accuracy: 0.9578 - val_loss: 0.1279\n",
      "Epoch 34/50\n",
      "\u001b[1m959/959\u001b[0m \u001b[32m━━━━━━━━━━━━━━━━━━━━\u001b[0m\u001b[37m\u001b[0m \u001b[1m50s\u001b[0m 53ms/step - accuracy: 0.9891 - loss: 0.0319 - val_accuracy: 0.9535 - val_loss: 0.1379\n",
      "Epoch 35/50\n",
      "\u001b[1m959/959\u001b[0m \u001b[32m━━━━━━━━━━━━━━━━━━━━\u001b[0m\u001b[37m\u001b[0m \u001b[1m50s\u001b[0m 52ms/step - accuracy: 0.9934 - loss: 0.0202 - val_accuracy: 0.9750 - val_loss: 0.0701\n",
      "Epoch 36/50\n",
      "\u001b[1m959/959\u001b[0m \u001b[32m━━━━━━━━━━━━━━━━━━━━\u001b[0m\u001b[37m\u001b[0m \u001b[1m50s\u001b[0m 52ms/step - accuracy: 0.9880 - loss: 0.0350 - val_accuracy: 0.9777 - val_loss: 0.0720\n",
      "Epoch 37/50\n",
      "\u001b[1m959/959\u001b[0m \u001b[32m━━━━━━━━━━━━━━━━━━━━\u001b[0m\u001b[37m\u001b[0m \u001b[1m50s\u001b[0m 52ms/step - accuracy: 0.9914 - loss: 0.0234 - val_accuracy: 0.9801 - val_loss: 0.0546\n",
      "Epoch 38/50\n",
      "\u001b[1m959/959\u001b[0m \u001b[32m━━━━━━━━━━━━━━━━━━━━\u001b[0m\u001b[37m\u001b[0m \u001b[1m50s\u001b[0m 52ms/step - accuracy: 0.9897 - loss: 0.0254 - val_accuracy: 0.9816 - val_loss: 0.0541\n",
      "Epoch 39/50\n",
      "\u001b[1m959/959\u001b[0m \u001b[32m━━━━━━━━━━━━━━━━━━━━\u001b[0m\u001b[37m\u001b[0m \u001b[1m51s\u001b[0m 53ms/step - accuracy: 0.9912 - loss: 0.0256 - val_accuracy: 0.9762 - val_loss: 0.0710\n",
      "Epoch 40/50\n",
      "\u001b[1m959/959\u001b[0m \u001b[32m━━━━━━━━━━━━━━━━━━━━\u001b[0m\u001b[37m\u001b[0m \u001b[1m50s\u001b[0m 52ms/step - accuracy: 0.9829 - loss: 0.0485 - val_accuracy: 0.9664 - val_loss: 0.1026\n",
      "Epoch 41/50\n",
      "\u001b[1m959/959\u001b[0m \u001b[32m━━━━━━━━━━━━━━━━━━━━\u001b[0m\u001b[37m\u001b[0m \u001b[1m50s\u001b[0m 52ms/step - accuracy: 0.9926 - loss: 0.0229 - val_accuracy: 0.9785 - val_loss: 0.0876\n",
      "Epoch 42/50\n",
      "\u001b[1m959/959\u001b[0m \u001b[32m━━━━━━━━━━━━━━━━━━━━\u001b[0m\u001b[37m\u001b[0m \u001b[1m50s\u001b[0m 52ms/step - accuracy: 0.9907 - loss: 0.0266 - val_accuracy: 0.9785 - val_loss: 0.1796\n",
      "Epoch 43/50\n",
      "\u001b[1m959/959\u001b[0m \u001b[32m━━━━━━━━━━━━━━━━━━━━\u001b[0m\u001b[37m\u001b[0m \u001b[1m50s\u001b[0m 52ms/step - accuracy: 0.9918 - loss: 0.0241 - val_accuracy: 0.9816 - val_loss: 0.0553\n",
      "Epoch 44/50\n",
      "\u001b[1m959/959\u001b[0m \u001b[32m━━━━━━━━━━━━━━━━━━━━\u001b[0m\u001b[37m\u001b[0m \u001b[1m50s\u001b[0m 52ms/step - accuracy: 0.9951 - loss: 0.0160 - val_accuracy: 0.9758 - val_loss: 0.0747\n",
      "Epoch 45/50\n",
      "\u001b[1m959/959\u001b[0m \u001b[32m━━━━━━━━━━━━━━━━━━━━\u001b[0m\u001b[37m\u001b[0m \u001b[1m50s\u001b[0m 52ms/step - accuracy: 0.9923 - loss: 0.0232 - val_accuracy: 0.9801 - val_loss: 0.0634\n",
      "Epoch 46/50\n",
      "\u001b[1m959/959\u001b[0m \u001b[32m━━━━━━━━━━━━━━━━━━━━\u001b[0m\u001b[37m\u001b[0m \u001b[1m50s\u001b[0m 52ms/step - accuracy: 0.9879 - loss: 0.0369 - val_accuracy: 0.9789 - val_loss: 0.0621\n",
      "Epoch 47/50\n",
      "\u001b[1m959/959\u001b[0m \u001b[32m━━━━━━━━━━━━━━━━━━━━\u001b[0m\u001b[37m\u001b[0m \u001b[1m50s\u001b[0m 52ms/step - accuracy: 0.9917 - loss: 0.0224 - val_accuracy: 0.9812 - val_loss: 0.0462\n",
      "Epoch 48/50\n",
      "\u001b[1m959/959\u001b[0m \u001b[32m━━━━━━━━━━━━━━━━━━━━\u001b[0m\u001b[37m\u001b[0m \u001b[1m49s\u001b[0m 52ms/step - accuracy: 0.9925 - loss: 0.0209 - val_accuracy: 0.9808 - val_loss: 0.0582\n",
      "Epoch 49/50\n",
      "\u001b[1m959/959\u001b[0m \u001b[32m━━━━━━━━━━━━━━━━━━━━\u001b[0m\u001b[37m\u001b[0m \u001b[1m50s\u001b[0m 52ms/step - accuracy: 0.9861 - loss: 0.0397 - val_accuracy: 0.9812 - val_loss: 0.0536\n",
      "Epoch 50/50\n",
      "\u001b[1m959/959\u001b[0m \u001b[32m━━━━━━━━━━━━━━━━━━━━\u001b[0m\u001b[37m\u001b[0m \u001b[1m50s\u001b[0m 52ms/step - accuracy: 0.9883 - loss: 0.0353 - val_accuracy: 0.9781 - val_loss: 0.1768\n"
     ]
    }
   ],
   "source": [
    "history = model.fit(\n",
    "    trainX, trainY,\n",
    "    validation_data = (testX, testY),\n",
    "    epochs = 50,\n",
    "    batch_size=8,\n",
    "    #callbacks = [earlyStopping]\n",
    ")  "
   ]
  },
  {
   "cell_type": "code",
   "execution_count": 194,
   "id": "a61bb84d-0849-4be5-9503-5d11ea794d7b",
   "metadata": {},
   "outputs": [
    {
     "name": "stderr",
     "output_type": "stream",
     "text": [
      "WARNING:absl:You are saving your model as an HDF5 file via `model.save()` or `keras.saving.save_model(model)`. This file format is considered legacy. We recommend using instead the native Keras format, e.g. `model.save('my_model.keras')` or `keras.saving.save_model(model, 'my_model.keras')`. \n"
     ]
    }
   ],
   "source": [
    "# 모델 저장\n",
    "model.save('deepspectrum_AIvoice.h5')"
   ]
  },
  {
   "cell_type": "code",
   "execution_count": 55,
   "id": "d5111d10-aa05-4700-9da0-7316e07833c7",
   "metadata": {},
   "outputs": [],
   "source": [
    "historyDf = pd.DataFrame(history.history)"
   ]
  },
  {
   "cell_type": "code",
   "execution_count": 57,
   "id": "d06beeb9-e58b-4ac9-a9b1-6e8159a2c099",
   "metadata": {},
   "outputs": [
    {
     "data": {
      "image/png": "[encoded data removed]",
      "text/plain": [
       "<Figure size 640x480 with 1 Axes>"
      ]
     },
     "metadata": {},
     "output_type": "display_data"
    }
   ],
   "source": [
    "import matplotlib.pyplot as plt\n",
    "\n",
    "# Assuming historyDf is your DataFrame containing 'loss' and 'val_loss'\n",
    "\n",
    "# Create a figure and axis objects\n",
    "fig, ax = plt.subplots()\n",
    "\n",
    "# Plot 'loss' and 'val_loss' with black background\n",
    "historyDf.loc[:, ['loss', 'val_loss']].plot(ax=ax)\n",
    "\n",
    "# Set background color to black\n",
    "#ax.set_facecolor('black')\n",
    "#plt.style.use('dark_background')\n",
    "plt.style.use('grayscale') \n",
    "# Show the plot\n",
    "plt.show()"
   ]
  },
  {
   "cell_type": "code",
   "execution_count": 56,
   "id": "c2288b26-5203-4970-ad0d-1cc31998c26f",
   "metadata": {},
   "outputs": [
    {
     "data": {
      "text/plain": [
       "<Axes: >"
      ]
     },
     "execution_count": 56,
     "metadata": {},
     "output_type": "execute_result"
    },
    {
     "data": {
      "image/png": "[encoded data removed]",
      "text/plain": [
       "<Figure size 640x480 with 1 Axes>"
      ]
     },
     "metadata": {},
     "output_type": "display_data"
    }
   ],
   "source": [
    "# Plotting training and validation loss\n",
    "historyDf.loc[:, ['loss', 'val_loss']].plot()"
   ]
  },
  {
   "cell_type": "code",
   "execution_count": 70,
   "id": "85746c15-ea46-4214-8bd6-5b4042d9e20e",
   "metadata": {},
   "outputs": [
    {
     "data": {
      "image/png": "[encoded data removed]",
      "text/plain": [
       "<Figure size 640x480 with 1 Axes>"
      ]
     },
     "metadata": {},
     "output_type": "display_data"
    }
   ],
   "source": [
    "import matplotlib.pyplot as plt\n",
    "\n",
    "# Assuming historyDf is your DataFrame containing 'loss' and 'val_loss'\n",
    "\n",
    "# Create a figure and axis objects\n",
    "fig, ax = plt.subplots()\n",
    "\n",
    "# Plot 'loss' and 'val_loss' with black background\n",
    "historyDf.loc[:, ['accuracy', 'val_accuracy']].plot(ax=ax)\n",
    "\n",
    "# Set background color to black\n",
    "#ax.set_facecolor('black')\n",
    "plt.style.use('dark_background')\n",
    "#plt.style.use('grayscale') \n",
    "# Show the plot\n",
    "plt.show()"
   ]
  },
  {
   "cell_type": "code",
   "execution_count": 61,
   "id": "ec1eb46e-835f-4e89-ba8b-0c28277b48b8",
   "metadata": {},
   "outputs": [
    {
     "data": {
      "image/png": "[encoded data removed]",
      "text/plain": [
       "<Figure size 640x480 with 1 Axes>"
      ]
     },
     "metadata": {},
     "output_type": "display_data"
    }
   ],
   "source": [
    "# Plotting training and validation accuracy\n",
    "historyDf.loc[:, ['accuracy', 'val_accuracy']].plot()\n",
    "\n",
    "# Show the plot\n",
    "plt.show()"
   ]
  },
  {
   "cell_type": "code",
   "execution_count": 115,
   "id": "0143bbf7-faae-4072-aec3-a33f9d9e54f8",
   "metadata": {},
   "outputs": [
    {
     "name": "stdout",
     "output_type": "stream",
     "text": [
      "\u001b[1m37/37\u001b[0m \u001b[32m━━━━━━━━━━━━━━━━━━━━\u001b[0m\u001b[37m\u001b[0m \u001b[1m1s\u001b[0m 18ms/step - accuracy: 0.8936 - loss: 0.3988\n",
      "Validation accuracy of model : 90.27%\n"
     ]
    }
   ],
   "source": [
    "# Evaluating model\n",
    "score = model.evaluate(testX, testY)[1] * 100\n",
    "print(f'Validation accuracy of model : {score:.2f}%')"
   ]
  },
  {
   "cell_type": "markdown",
   "id": "56e5be31-2a7a-494d-b780-646f24ec97e4",
   "metadata": {},
   "source": [
    "### 아래는 earlystop 적용 버전"
   ]
  },
  {
   "cell_type": "code",
   "execution_count": null,
   "id": "0cf2d780-af24-432e-aeb5-184219bfd879",
   "metadata": {},
   "outputs": [],
   "source": [
    "earlyStopping = EarlyStopping(\n",
    "    monitor = 'val_accuracy',\n",
    "    patience = 10,\n",
    "    min_delta = 0.001,\n",
    "    restore_best_weights = True\n",
    ")"
   ]
  },
  {
   "cell_type": "code",
   "execution_count": 62,
   "id": "77464387-1c75-46fb-9bb3-3a36aab509eb",
   "metadata": {},
   "outputs": [
    {
     "name": "stdout",
     "output_type": "stream",
     "text": [
      "Epoch 1/50\n",
      "\u001b[1m959/959\u001b[0m \u001b[32m━━━━━━━━━━━━━━━━━━━━\u001b[0m\u001b[37m\u001b[0m \u001b[1m50s\u001b[0m 52ms/step - accuracy: 0.9897 - loss: 0.0320 - val_accuracy: 0.9652 - val_loss: 0.1014\n",
      "Epoch 2/50\n",
      "\u001b[1m959/959\u001b[0m \u001b[32m━━━━━━━━━━━━━━━━━━━━\u001b[0m\u001b[37m\u001b[0m \u001b[1m50s\u001b[0m 52ms/step - accuracy: 0.9917 - loss: 0.0227 - val_accuracy: 0.9762 - val_loss: 0.0710\n",
      "Epoch 3/50\n",
      "\u001b[1m959/959\u001b[0m \u001b[32m━━━━━━━━━━━━━━━━━━━━\u001b[0m\u001b[37m\u001b[0m \u001b[1m49s\u001b[0m 52ms/step - accuracy: 0.9916 - loss: 0.0256 - val_accuracy: 0.9812 - val_loss: 0.0596\n",
      "Epoch 4/50\n",
      "\u001b[1m959/959\u001b[0m \u001b[32m━━━━━━━━━━━━━━━━━━━━\u001b[0m\u001b[37m\u001b[0m \u001b[1m50s\u001b[0m 52ms/step - accuracy: 0.9916 - loss: 0.0256 - val_accuracy: 0.9789 - val_loss: 0.0766\n",
      "Epoch 5/50\n",
      "\u001b[1m959/959\u001b[0m \u001b[32m━━━━━━━━━━━━━━━━━━━━\u001b[0m\u001b[37m\u001b[0m \u001b[1m50s\u001b[0m 52ms/step - accuracy: 0.9921 - loss: 0.0239 - val_accuracy: 0.9765 - val_loss: 0.0721\n",
      "Epoch 6/50\n",
      "\u001b[1m959/959\u001b[0m \u001b[32m━━━━━━━━━━━━━━━━━━━━\u001b[0m\u001b[37m\u001b[0m \u001b[1m50s\u001b[0m 52ms/step - accuracy: 0.9927 - loss: 0.0219 - val_accuracy: 0.9855 - val_loss: 0.0475\n",
      "Epoch 7/50\n",
      "\u001b[1m959/959\u001b[0m \u001b[32m━━━━━━━━━━━━━━━━━━━━\u001b[0m\u001b[37m\u001b[0m \u001b[1m51s\u001b[0m 54ms/step - accuracy: 0.9928 - loss: 0.0215 - val_accuracy: 0.9859 - val_loss: 0.0515\n",
      "Epoch 8/50\n",
      "\u001b[1m959/959\u001b[0m \u001b[32m━━━━━━━━━━━━━━━━━━━━\u001b[0m\u001b[37m\u001b[0m \u001b[1m52s\u001b[0m 54ms/step - accuracy: 0.9946 - loss: 0.0183 - val_accuracy: 0.9820 - val_loss: 0.0587\n",
      "Epoch 9/50\n",
      "\u001b[1m959/959\u001b[0m \u001b[32m━━━━━━━━━━━━━━━━━━━━\u001b[0m\u001b[37m\u001b[0m \u001b[1m51s\u001b[0m 54ms/step - accuracy: 0.9913 - loss: 0.0279 - val_accuracy: 0.9844 - val_loss: 0.0503\n",
      "Epoch 10/50\n",
      "\u001b[1m959/959\u001b[0m \u001b[32m━━━━━━━━━━━━━━━━━━━━\u001b[0m\u001b[37m\u001b[0m \u001b[1m50s\u001b[0m 53ms/step - accuracy: 0.9927 - loss: 0.0222 - val_accuracy: 0.9805 - val_loss: 0.0875\n",
      "Epoch 11/50\n",
      "\u001b[1m959/959\u001b[0m \u001b[32m━━━━━━━━━━━━━━━━━━━━\u001b[0m\u001b[37m\u001b[0m \u001b[1m50s\u001b[0m 52ms/step - accuracy: 0.9931 - loss: 0.0173 - val_accuracy: 0.9758 - val_loss: 0.0782\n",
      "Epoch 12/50\n",
      "\u001b[1m959/959\u001b[0m \u001b[32m━━━━━━━━━━━━━━━━━━━━\u001b[0m\u001b[37m\u001b[0m \u001b[1m50s\u001b[0m 52ms/step - accuracy: 0.9899 - loss: 0.0275 - val_accuracy: 0.9797 - val_loss: 0.0620\n",
      "Epoch 13/50\n",
      "\u001b[1m959/959\u001b[0m \u001b[32m━━━━━━━━━━━━━━━━━━━━\u001b[0m\u001b[37m\u001b[0m \u001b[1m50s\u001b[0m 52ms/step - accuracy: 0.9913 - loss: 0.0208 - val_accuracy: 0.9816 - val_loss: 0.0624\n",
      "Epoch 14/50\n",
      "\u001b[1m959/959\u001b[0m \u001b[32m━━━━━━━━━━━━━━━━━━━━\u001b[0m\u001b[37m\u001b[0m \u001b[1m51s\u001b[0m 53ms/step - accuracy: 0.9907 - loss: 0.0277 - val_accuracy: 0.9824 - val_loss: 0.0600\n",
      "Epoch 15/50\n",
      "\u001b[1m959/959\u001b[0m \u001b[32m━━━━━━━━━━━━━━━━━━━━\u001b[0m\u001b[37m\u001b[0m \u001b[1m51s\u001b[0m 53ms/step - accuracy: 0.9921 - loss: 0.0239 - val_accuracy: 0.9808 - val_loss: 0.0628\n",
      "Epoch 16/50\n",
      "\u001b[1m959/959\u001b[0m \u001b[32m━━━━━━━━━━━━━━━━━━━━\u001b[0m\u001b[37m\u001b[0m \u001b[1m51s\u001b[0m 53ms/step - accuracy: 0.9930 - loss: 0.0189 - val_accuracy: 0.9848 - val_loss: 0.0519\n"
     ]
    }
   ],
   "source": [
    "history2 = model.fit(\n",
    "    trainX, trainY,\n",
    "    validation_data = (testX, testY),\n",
    "    epochs = 50,\n",
    "    batch_size=8,\n",
    "    callbacks = [earlyStopping]\n",
    ")  "
   ]
  },
  {
   "cell_type": "code",
   "execution_count": 66,
   "id": "10041129-bdc9-468d-b5d2-96e874247aed",
   "metadata": {},
   "outputs": [],
   "source": [
    "historyDf2 = pd.DataFrame(history2.history)"
   ]
  },
  {
   "cell_type": "code",
   "execution_count": 67,
   "id": "9b7be55e-b66f-4154-8946-e83267f3c461",
   "metadata": {},
   "outputs": [
    {
     "data": {
      "image/png": "[encoded data removed]",
      "text/plain": [
       "<Figure size 640x480 with 1 Axes>"
      ]
     },
     "metadata": {},
     "output_type": "display_data"
    }
   ],
   "source": [
    "import matplotlib.pyplot as plt\n",
    "\n",
    "# Assuming historyDf is your DataFrame containing 'loss' and 'val_loss'\n",
    "\n",
    "# Create a figure and axis objects\n",
    "fig, ax = plt.subplots()\n",
    "\n",
    "# Plot 'loss' and 'val_loss' with black background\n",
    "historyDf2.loc[:, ['loss', 'val_loss']].plot(ax=ax)\n",
    "\n",
    "# Set background color to black\n",
    "#ax.set_facecolor('black')\n",
    "#plt.style.use('dark_background')\n",
    "plt.style.use('grayscale') \n",
    "# Show the plot\n",
    "plt.show()"
   ]
  },
  {
   "cell_type": "code",
   "execution_count": 68,
   "id": "3d3883e4-0f32-4628-a5fe-a4c329afcbe2",
   "metadata": {},
   "outputs": [
    {
     "data": {
      "image/png": "[encoded data removed]",
      "text/plain": [
       "<Figure size 640x480 with 1 Axes>"
      ]
     },
     "metadata": {},
     "output_type": "display_data"
    }
   ],
   "source": [
    "import matplotlib.pyplot as plt\n",
    "\n",
    "# Assuming historyDf is your DataFrame containing 'loss' and 'val_loss'\n",
    "\n",
    "# Create a figure and axis objects\n",
    "fig, ax = plt.subplots()\n",
    "\n",
    "# Plot 'loss' and 'val_loss' with black background\n",
    "historyDf2.loc[:, ['accuracy', 'val_accuracy']].plot(ax=ax)\n",
    "\n",
    "# Set background color to black\n",
    "#ax.set_facecolor('black')\n",
    "plt.style.use('dark_background')\n",
    "#plt.style.use('grayscale') \n",
    "# Show the plot\n",
    "plt.show()"
   ]
  },
  {
   "cell_type": "code",
   "execution_count": 69,
   "id": "076d9f95-9917-4484-813f-e71e29f0511f",
   "metadata": {},
   "outputs": [
    {
     "data": {
      "image/png": "[encoded data removed]",
      "text/plain": [
       "<Figure size 640x480 with 1 Axes>"
      ]
     },
     "metadata": {},
     "output_type": "display_data"
    }
   ],
   "source": [
    "# Plotting training and validation accuracy\n",
    "historyDf2.loc[:, ['accuracy', 'val_accuracy']].plot()\n",
    "\n",
    "# Show the plot\n",
    "plt.show()"
   ]
  }
 ],
 "metadata": {
  "kernelspec": {
   "display_name": "Python 3 (ipykernel)",
   "language": "python",
   "name": "python3"
  },
  "language_info": {
   "codemirror_mode": {
    "name": "ipython",
    "version": 3
   },
   "file_extension": ".py",
   "mimetype": "text/x-python",
   "name": "python",
   "nbconvert_exporter": "python",
   "pygments_lexer": "ipython3",
   "version": "3.10.14"
  }
 },
 "nbformat": 4,
 "nbformat_minor": 5
}
