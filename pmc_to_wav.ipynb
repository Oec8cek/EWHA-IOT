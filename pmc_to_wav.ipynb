{
 "cells": [
  {
   "cell_type": "code",
   "execution_count": null,
   "id": "4b9bf226-614a-44fa-bbf7-2c0588de5a79",
   "metadata": {
    "scrolled": true,
    "tags": []
   },
   "outputs": [],
   "source": [
    "!pip install librosa"
   ]
  },
  {
   "cell_type": "code",
   "execution_count": 5,
   "id": "d654853b-f114-4ff8-9f65-0123da300b7c",
   "metadata": {},
   "outputs": [],
   "source": [
    "import numpy as np\n",
    "import librosa as lr\n",
    "import soundfile as sf"
   ]
  },
  {
   "cell_type": "code",
   "execution_count": 22,
   "id": "d1af5b89-2dd2-4d8d-b2f3-e518ffdfc28f",
   "metadata": {},
   "outputs": [],
   "source": [
    "import pathlib\n",
    "import struct\n",
    "import os"
   ]
  },
  {
   "cell_type": "code",
   "execution_count": 17,
   "id": "8ef6a9e4-38f3-400b-ae45-b16ccb1f59a0",
   "metadata": {},
   "outputs": [],
   "source": [
    "def make_wav_format(pcm_data:bytes, ch:int) -> bytes:\n",
    "        \"\"\" \n",
    "        pcm_data를 통해서 wav 헤더를 만들고 wav 형식으로 저장한다.\n",
    "        :param pcm_data: pcm bytes\n",
    "        :param ch: 채널 수\n",
    "        :return wav: wave bytes\n",
    "        \"\"\"\n",
    "        waves = []\n",
    "        waves.append(struct.pack('<4s', b'RIFF'))\n",
    "        waves.append(struct.pack('I', 1))  \n",
    "        waves.append(struct.pack('4s', b'WAVE'))\n",
    "        waves.append(struct.pack('4s', b'fmt '))\n",
    "        waves.append(struct.pack('I', 16))\n",
    "        # audio_format, channel_cnt, sample_rate, bytes_rate(sr*blockalign:초당 바이츠수), block_align, bps\n",
    "        if ch == 2:\n",
    "            waves.append(struct.pack('HHIIHH', 1, 2, 16000, 64000, 4, 16))  \n",
    "        else:\n",
    "            waves.append(struct.pack('HHIIHH', 1, 1, 16000, 32000, 2, 16))\n",
    "        waves.append(struct.pack('<4s', b'data'))\n",
    "        waves.append(struct.pack('I', len(pcm_data)))\n",
    "        waves.append(pcm_data)\n",
    "        waves[1] = struct.pack('I', sum(len(w) for w in waves[2:]))\n",
    "        return b''.join(waves)"
   ]
  },
  {
   "cell_type": "code",
   "execution_count": null,
   "id": "725100d8-f0ed-49b1-91d7-5ec3b42087bd",
   "metadata": {},
   "outputs": [],
   "source": []
  },
  {
   "cell_type": "code",
   "execution_count": 32,
   "id": "393b6181-5ea0-4863-b9ae-fd46cc82db5d",
   "metadata": {},
   "outputs": [
    {
     "data": {
      "text/plain": [
       "['KsponSpeech_006001',\n",
       " 'KsponSpeech_006002',\n",
       " 'KsponSpeech_006003',\n",
       " 'KsponSpeech_006004',\n",
       " 'KsponSpeech_006005']"
      ]
     },
     "execution_count": 32,
     "metadata": {},
     "output_type": "execute_result"
    }
   ],
   "source": [
    "#폴더 안에 있는 파일 이름들 전부 다 받아오기\n",
    "templist = os.listdir('E:/IoT/한국어음성01raw/KsponSpeech_01/KsponSpeech_0007')\n",
    "\n",
    "pcmlist = [file[:-4] for file in templist if file.endswith('.pcm')]\n",
    "\n",
    "pcmlist.sort()\n",
    "len(pcmlist)\n",
    "pcmlist[:5]"
   ]
  },
  {
   "cell_type": "code",
   "execution_count": 35,
   "id": "c14686f0-5168-4f16-beb3-a72aff7ab44d",
   "metadata": {},
   "outputs": [],
   "source": [
    "path = 'E:/IoT/한국어음성01raw/KsponSpeech_01/KsponSpeech_0007/'\n",
    "\n",
    "for filename in pcmlist :\n",
    "    pcm_bytes = pathlib.Path(path + filename + '.pcm').read_bytes()\n",
    "    wav_bytes = make_wav_format(pcm_bytes, 1)\n",
    "    \n",
    "    with open('E:/IoT/한국어음성01/'+ filename +'.wav', 'wb') as file:\n",
    "     file.write(wav_bytes)\n",
    "    \n",
    "\n"
   ]
  },
  {
   "cell_type": "code",
   "execution_count": null,
   "id": "35e22ce1-446b-432e-935d-8bd0b20242d8",
   "metadata": {},
   "outputs": [],
   "source": []
  },
  {
   "cell_type": "code",
   "execution_count": null,
   "id": "ba8836bc-9f07-4d55-a9b5-072622645a3a",
   "metadata": {},
   "outputs": [],
   "source": []
  }
 ],
 "metadata": {
  "kernelspec": {
   "display_name": "Python 3 (ipykernel)",
   "language": "python",
   "name": "python3"
  },
  "language_info": {
   "codemirror_mode": {
    "name": "ipython",
    "version": 3
   },
   "file_extension": ".py",
   "mimetype": "text/x-python",
   "name": "python",
   "nbconvert_exporter": "python",
   "pygments_lexer": "ipython3",
   "version": "3.9.12"
  }
 },
 "nbformat": 4,
 "nbformat_minor": 5
}
